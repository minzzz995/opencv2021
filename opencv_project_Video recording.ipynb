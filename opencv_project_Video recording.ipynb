{
 "cells": [
  {
   "cell_type": "code",
   "execution_count": 1,
   "id": "80fd4d88",
   "metadata": {},
   "outputs": [],
   "source": [
    "#   opencv python 코딩\n",
    "#   영상 녹화, 영상화면 캡처\n",
    "\n",
    "import cv2\n",
    "import datetime\n",
    "from PIL import ImageFont, ImageDraw, Image\n",
    "import numpy as np"
   ]
  },
  {
   "cell_type": "code",
   "execution_count": 2,
   "id": "aaf1e78f",
   "metadata": {},
   "outputs": [],
   "source": [
    "# 카메라 영상을 받아올 객체 선언 및 설정(영상 소스, 해상도 설정)\n",
    "capture = cv2.VideoCapture(0)\n",
    "capture.set(cv2.CAP_PROP_FRAME_WIDTH, 640)\n",
    "capture.set(cv2.CAP_PROP_FRAME_HEIGHT, 480)\n",
    "\n",
    "fourcc = cv2.VideoWriter_fourcc(*'XVID')    # 영상을 기록할 코덱 설정\n",
    "font = ImageFont.truetype('fonts/ARIAL.TTF', 20) # 글꼴파일을 불러옴\n",
    "is_record = False                           # 녹화상태는 처음엔 거짓으로 설정"
   ]
  },
  {
   "cell_type": "code",
   "execution_count": 3,
   "id": "190b064c",
   "metadata": {},
   "outputs": [],
   "source": [
    "# 무한루프\n",
    "while True:\n",
    "    # 현재시각을 불러와 문자열로저장\n",
    "    now = datetime.datetime.now()\n",
    "    nowDatetime = now.strftime('%Y-%m-%d %H:%M:%S')\n",
    "    nowDatetime_path = now.strftime('%Y-%m-%d %H_%M_%S') # 파일이름으로는 :를 못쓰기 때문에 따로 만들어줌\n",
    "    ret, frame = capture.read()     # 카메라로부터 현재 영상을 받아 frame에 저장, 잘 받았다면 ret가 참\n",
    "    \n",
    "    # 글자가 잘보이도록 배경을 넣어줌\n",
    "    # img는 사각형을 넣을 이미지, pt1, pt2는 사각형의 시작점과 끝점, color는 색상(파랑,초록,빨강), tickness는 선굵기(-1은 내부를 채우는 것)\n",
    "    cv2.rectangle(img=frame, pt1=(10, 15), pt2=(340, 35), color=(0,0,0), thickness=-1)     \n",
    "    \n",
    "    # 아래의 4줄은 글자를 영상에 더해주는 역할을 함 \n",
    "    #arr = obj.__array_interface__\n",
    "    frame = Image.fromarray(frame)    \n",
    "    draw = ImageDraw.Draw(frame)    \n",
    "    # xy는 텍스트 시작위치, text는 출력할 문자열, font는 글꼴, fill은 글자색(파랑,초록,빨강)   \n",
    "    draw.text(xy=(10, 15),  text=\"공대선배 웹캠 \"+nowDatetime, font=font, fill=(255, 255, 255))\n",
    "    frame = np.array(frame)\n",
    "\n",
    "    \n",
    "    key = cv2.waitKey(30)   # 30ms 동안 키입력 대기\n",
    "    if key == ord('r') and is_record == False:  # 현재 녹화상태가 아니며 r 키를 누르면\n",
    "        is_record = True            # 녹화상태로 만들어줌\n",
    "        # 비디오 객체에 (파일이름(한글가능), 인코더, 초당프레임률(정확하지 않음), 영상크기) 로 영상을 쓸 준비\n",
    "        video = cv2.VideoWriter(\"공대선배 웹캠 \" + nowDatetime_path + \".avi\", fourcc, 15, (frame.shape[1], frame.shape[0]))\n",
    "    elif key == ord('r') and is_record == True: # 녹화중인 상태에서 다시 r키를 누르면\n",
    "        is_record = False       # 녹화상태를 꺼줌\n",
    "        video.release()         # 녹화 종료\n",
    "    elif key == ord('c'):       # c 키를 누르면\n",
    "        # (파일이름(한글불가, 영어만), 이미지)로 영상을 캡쳐하여 그림파일로 저장\n",
    "        cv2.imwrite(\"capture \" + nowDatetime_path + \".png\", frame)  # 파일이름(한글안됨), 이미지 \n",
    "    elif key == ord('q'):  # 키보드의 q 를 누르면 무한루프가 멈춤\n",
    "            break\n",
    "    if is_record == True:       # 현재 녹화상태이면            \n",
    "        # 비디오 객체에 현재 프레임 저장\n",
    "        video.write(frame)\n",
    "        # 녹화중이라는 것을 보여주기 위해 보여주는 화면에는 빨간색 점을 표시해줌\n",
    "        cv2.circle(img=frame, center=(620, 15), radius=5, color=(0,0,255), thickness=-1)\n",
    "    cv2.imshow(\"output\", frame)   # 현재 시간을 표시하는 글자를 써준 영상 출력"
   ]
  },
  {
   "cell_type": "code",
   "execution_count": 4,
   "id": "ef147633",
   "metadata": {},
   "outputs": [],
   "source": [
    "capture.release()                   # 캡처 객체를 없애줌\n",
    "cv2.destroyAllWindows()             # 모든 영상 창을 닫아줌"
   ]
  }
 ],
 "metadata": {
  "kernelspec": {
   "display_name": "Python 3",
   "language": "python",
   "name": "python3"
  },
  "language_info": {
   "codemirror_mode": {
    "name": "ipython",
    "version": 3
   },
   "file_extension": ".py",
   "mimetype": "text/x-python",
   "name": "python",
   "nbconvert_exporter": "python",
   "pygments_lexer": "ipython3",
   "version": "3.8.8"
  }
 },
 "nbformat": 4,
 "nbformat_minor": 5
}
