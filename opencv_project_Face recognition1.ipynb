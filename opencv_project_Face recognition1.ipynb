{
 "cells": [
  {
   "cell_type": "code",
   "execution_count": 1,
   "id": "7cc56674",
   "metadata": {},
   "outputs": [],
   "source": [
    "#   opencv python 코딩\n",
    "#   얼굴을 인식한 상태에만 자동으로 촬영\n",
    "\n",
    "import cv2\n",
    "from PIL import ImageFont, ImageDraw, Image\n",
    "import numpy as np\n",
    "import os\n",
    "import datetime\n",
    "import time"
   ]
  },
  {
   "cell_type": "code",
   "execution_count": 2,
   "id": "d13fbef4",
   "metadata": {},
   "outputs": [
    {
     "data": {
      "text/plain": [
       "True"
      ]
     },
     "execution_count": 2,
     "metadata": {},
     "output_type": "execute_result"
    }
   ],
   "source": [
    "# opencv python 코딩 기본 틀\n",
    "# 카메라 영상을 받아올 객체 선언 및 설정(영상 소스, 해상도 설정)\n",
    "capture = cv2.VideoCapture(0)\n",
    "capture.set(3, 640)\n",
    "capture.set(4, 480)"
   ]
  },
  {
   "cell_type": "code",
   "execution_count": 3,
   "id": "4fd1a599",
   "metadata": {},
   "outputs": [],
   "source": [
    "img_counter = 0\n",
    "frame_set = []\n",
    "start_time = time.time()\n",
    "start_time_int = int(time.time())\n",
    "path = './capture/capture'  # 특정 폴더에 저장\n",
    "count: int = 0\n",
    "flag=1"
   ]
  },
  {
   "cell_type": "code",
   "execution_count": 4,
   "id": "2304d000",
   "metadata": {},
   "outputs": [],
   "source": [
    "is_record = False                           # 녹화상태는 처음엔 거짓으로 설정\n",
    "on_record = False\n",
    "cnt_record = 0      # 영상 녹화 시간 관련 변수\n",
    "max_cnt_record = 5  # 최소 촬영시간"
   ]
  },
  {
   "cell_type": "code",
   "execution_count": 5,
   "id": "34126921",
   "metadata": {},
   "outputs": [],
   "source": [
    "fourcc = cv2.VideoWriter_fourcc(*'XVID')    # 영상을 기록할 코덱 설정\n",
    "font = ImageFont.truetype('fonts/ARIAL.TTF', 20) # 글꼴파일을 불러옴"
   ]
  },
  {
   "cell_type": "code",
   "execution_count": 6,
   "id": "c4c2a4e5",
   "metadata": {},
   "outputs": [],
   "source": [
    "# haar cascade 검출기 객체 선언\n",
    "face_cascade = cv2.CascadeClassifier('haarcascades/haarcascade_frontalface_default.xml')\n",
    "#eye_cascade = cv2.CascadeClassifier('haarcascades/haarcascade_eye_tree_eyeglasses.xml')"
   ]
  },
  {
   "cell_type": "code",
   "execution_count": 7,
   "id": "727b155a",
   "metadata": {},
   "outputs": [
    {
     "ename": "IndentationError",
     "evalue": "unexpected indent (<ipython-input-7-1cd24b8c370c>, line 65)",
     "output_type": "error",
     "traceback": [
      "\u001b[1;36m  File \u001b[1;32m\"<ipython-input-7-1cd24b8c370c>\"\u001b[1;36m, line \u001b[1;32m65\u001b[0m\n\u001b[1;33m    if len(faces) :\u001b[0m\n\u001b[1;37m    ^\u001b[0m\n\u001b[1;31mIndentationError\u001b[0m\u001b[1;31m:\u001b[0m unexpected indent\n"
     ]
    }
   ],
   "source": [
    "# 무한루프\n",
    "while True:\n",
    "    # 현재시각을 불러와 문자열로저장\n",
    "    now = datetime.datetime.now()\n",
    "    nowDatetime = now.strftime('%Y-%m-%d %H:%M:%S')\n",
    "    nowDatetime_path = now.strftime('%Y-%m-%d %H_%M_%S') # 파일이름으로는 :를 못쓰기 때문에 따로 만들어줌\n",
    "\n",
    "    ret, frame = capture.read()     # 카메라로부터 현재 영상을 받아 frame에 저장, 잘 받았다면 ret가 참\n",
    "    gray = cv2.cvtColor(frame, cv2.COLOR_BGR2GRAY)  # 영상을 흑백으로 바꿔줌\n",
    "    \n",
    "    # 글자가 잘보이도록 배경을 넣어줌\n",
    "    # img는 사각형을 넣을 이미지, pt1, pt2는 사각형의 시작점과 끝점, color는 색상(파랑,초록,빨강), tickness는 선굵기(-1은 내부를 채우는 것)\n",
    "    cv2.rectangle(img=frame, pt1=(10, 15), pt2=(340, 35), color=(0,0,0), thickness=-1)     \n",
    "    frame = Image.fromarray(frame)    \n",
    "    draw = ImageDraw.Draw(frame)    \n",
    "    # xy는 텍스트 시작위치, text는 출력할 문자열, font는 글꼴, fill은 글자색(파랑,초록,빨강)   \n",
    "    draw.text(xy=(10, 15),  text=\"camera \"+nowDatetime, font=font, fill=(255, 255, 255))\n",
    "    frame = np.array(frame)\n",
    "    \n",
    "    # scaleFactor를 1에 가깝게 해주면 정확도가 상승하나 시간이 오래걸림\n",
    "    # minNeighbors를 높여주면 검출률이 상승하나 오탐지율도 상승\n",
    "    faces = face_cascade.detectMultiScale(gray, scaleFactor= 1.5, minNeighbors=3, minSize=(20,20))\n",
    "    # print(faces)\n",
    "    \n",
    "    # 찾은 얼굴이 있으면\n",
    "    if len(faces) :\n",
    "        is_record = True    # 녹화 준비\n",
    "        if on_record == False:\n",
    "                for i in range(3):\n",
    "                    img_counter = 0            \n",
    "                    frame_set = []\n",
    "                    start_time = time.time()\n",
    "                    start_time_int = int(time.time())\n",
    "                    flag=1\n",
    "                    while flag==1:\n",
    "                        ret, frame = capture.read()\n",
    "                        gray = cv2.cvtColor(frame, cv2.COLOR_BGR2GRAY)\n",
    "                        cv2.imshow('frame', gray)\n",
    "                    # 시작 2초 뒤 종료\n",
    "                        if int(time.time()) > start_time_int + 2:\n",
    "                            flag=0\n",
    "\n",
    "                        if time.time() - start_time >= 1:    \n",
    "                            img_name = \"webcam_{}.jpg\".format(img_counter)\n",
    "                            cv2.imwrite(os.path.expanduser(os.path.join(path, img_name)), frame)\n",
    "                            print(\"{} written!\".format(img_counter))\n",
    "                        img_counter += 1\n",
    "                    print(\"loop\")\n",
    "            #video = cv2.VideoWriter(\"capture/capture\" + nowDatetime_path + \".avi\", fourcc, 1, (frame.shape[1], frame.shape[0]))\n",
    "            #cv2.imwrite(\"capture/capture\" + nowDatetime_path + \".png\", frame)\n",
    "        cnt_record = max_cnt_record\n",
    "        \n",
    "\n",
    "    \n",
    "'''    if is_record == True:   # 녹화중이면\n",
    "        print('녹화 중')\n",
    "        #video.write(frame)    # 현재 프레임 저장\n",
    "        cnt_record -= 1     # 녹화시간 1 감소\n",
    "        on_record = True    # 녹화중 여부를 참으로\n",
    "    if cnt_record == 0:     # 녹화시간이 다 되면\n",
    "        is_record = False   # 녹화관련 변수들을 거짓으로\n",
    "        on_record = False'''\n",
    "\n",
    "    # 얼굴 영역을 영상에 사각형으로 표시\n",
    "    if len(faces) :\n",
    "        for  x, y, w, h in faces :\n",
    "            cv2.rectangle(frame, (x, y), (x + w, y + h), (255,255,255), 2, cv2.LINE_4)\n",
    "    cv2.imshow(\"original\", frame)   # frame(카메라 영상)을 original 이라는 창에 띄워줌 \n",
    "    if cv2.waitKey(1000) == ord('q'):  # 키보드의 q 를 누르면 무한루프가 멈춤\n",
    "            break"
   ]
  },
  {
   "cell_type": "code",
   "execution_count": null,
   "id": "696a31a2",
   "metadata": {},
   "outputs": [],
   "source": [
    "capture.release()                   # 캡처 객체를 없애줌\n",
    "cv2.destroyAllWindows()             # 모든 영상 창을 닫아줌"
   ]
  }
 ],
 "metadata": {
  "kernelspec": {
   "display_name": "Python 3",
   "language": "python",
   "name": "python3"
  },
  "language_info": {
   "codemirror_mode": {
    "name": "ipython",
    "version": 3
   },
   "file_extension": ".py",
   "mimetype": "text/x-python",
   "name": "python",
   "nbconvert_exporter": "python",
   "pygments_lexer": "ipython3",
   "version": "3.8.8"
  }
 },
 "nbformat": 4,
 "nbformat_minor": 5
}
