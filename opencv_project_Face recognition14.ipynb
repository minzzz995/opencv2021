{
 "cells": [
  {
   "cell_type": "code",
   "execution_count": 1,
   "id": "7e1ac657",
   "metadata": {},
   "outputs": [],
   "source": [
    "#   opencv python 코딩\n",
    "#   움직임이 있을때만 영상을 캡쳐\n",
    "#\n",
    "\n",
    "import cv2\n",
    "import datetime\n",
    "from PIL import ImageFont, ImageDraw, Image\n",
    "import numpy as np\n",
    "import os"
   ]
  },
  {
   "cell_type": "code",
   "execution_count": 2,
   "id": "0f87a17b",
   "metadata": {},
   "outputs": [],
   "source": [
    "def get_diff_img(frame_a, frame_b, frame_c, threshold):\n",
    "    # 3 프레임의 영상을 모두 흑백으로 전환\n",
    "    frame_a_gray = cv2.cvtColor(frame_a, cv2.COLOR_BGR2GRAY)\n",
    "    frame_b_gray = cv2.cvtColor(frame_b, cv2.COLOR_BGR2GRAY)\n",
    "    frame_c_gray = cv2.cvtColor(frame_c, cv2.COLOR_BGR2GRAY)\n",
    "\n",
    "    # 1,2 프레임, 2,3 프레임 영상들의 차를 구함\n",
    "    diff_ab = cv2.absdiff(frame_a_gray, frame_b_gray)\n",
    "    diff_bc = cv2.absdiff(frame_b_gray, frame_c_gray)\n",
    "\n",
    "    # 영상들의 차가 threshold 이상이면 값을 255(백색)으로 만들어줌\n",
    "    ret, diff_ab_t = cv2.threshold(diff_ab, threshold, 255, cv2.THRESH_BINARY)\n",
    "    ret, diff_bc_t = cv2.threshold(diff_bc, threshold, 255, cv2.THRESH_BINARY)\n",
    "\n",
    "    # 두 영상 차의 공통된 부분을 1로 만들어줌\n",
    "    diff = cv2.bitwise_and(diff_ab_t, diff_bc_t)\n",
    "    # 영상에서 1이 된 부분을 적당히 확장해줌(morpholgy)\n",
    "    k = cv2.getStructuringElement(cv2.MORPH_CROSS, (3, 3))\n",
    "    diff = cv2.morphologyEx(diff, cv2.MORPH_OPEN, k)\n",
    "\n",
    "    # 영상에서 1인 부분의 갯수를 셈\n",
    "    diff_cnt = cv2.countNonZero(diff)\n",
    "    return diff, diff_cnt"
   ]
  },
  {
   "cell_type": "code",
   "execution_count": 3,
   "id": "9ef3d167",
   "metadata": {},
   "outputs": [],
   "source": [
    "# 카메라 영상을 받아올 객체 선언 및 설정(영상 소스, 해상도 설정)\n",
    "capture = cv2.VideoCapture(0)\n",
    "capture.set(cv2.CAP_PROP_FRAME_WIDTH, 640)\n",
    "capture.set(cv2.CAP_PROP_FRAME_HEIGHT, 480)\n",
    "\n",
    "fourcc = cv2.VideoWriter_fourcc(*'XVID')    # 영상을 기록할 코덱 설정\n",
    "font = ImageFont.truetype('fonts/ARIAL.TTF', 20) # 글꼴파일을 불러옴\n",
    "is_record = False                           # 녹화상태는 처음엔 거짓으로 설정\n",
    "on_record = False\n",
    "\n",
    "threshold = 40      # 영상 차이에 사용할 threshold 설정\n",
    "diff_max = 10       # 영상 차이 픽셀의 개수(이것 이상이면 움직임이 있다고 결정)\n",
    "cnt_record = 0      # 영상 녹화 시간 관련 변수\n",
    "max_cnt_record = 5  # 최소 촬영시간"
   ]
  },
  {
   "cell_type": "code",
   "execution_count": 4,
   "id": "5b80a266",
   "metadata": {},
   "outputs": [],
   "source": [
    "# 초기 프레임으로 사용할 프레임들을 저장\n",
    "ret, frame_a = capture.read()\n",
    "ret, frame_b = capture.read()"
   ]
  },
  {
   "cell_type": "code",
   "execution_count": 5,
   "id": "42901771",
   "metadata": {},
   "outputs": [],
   "source": [
    "# 무한루프\n",
    "while True:\n",
    "    # 현재시각을 불러와 문자열로저장\n",
    "    now = datetime.datetime.now()\n",
    "    nowDatetime = now.strftime('%Y-%m-%d %H:%M:%S')\n",
    "    nowDatetime_path = now.strftime('%Y-%m-%d %H_%M_%S') # 파일이름으로는 :를 못쓰기 때문에 따로 만들어줌\n",
    "    # 현재 영상을 입력받아 움직임 감지\n",
    "    ret, frame_c = capture.read()\n",
    "    diff, diff_cnt = get_diff_img(frame_a,frame_b, frame_c, threshold=threshold)\n",
    "    \n",
    "    # 움직임이 일정 이상이면\n",
    "    if diff_cnt > diff_max:\n",
    "        cv2.imwrite(\"capture/capture \" + nowDatetime_path + \".png\", frame_c)  # 파일이름(한글안됨), 이미지 \n",
    "    \n",
    "    # 영상 차이를 출력(실제 사용시는 꺼도 됨)\n",
    "    cv2.imshow(\"diff\", diff)\n",
    "    frame = np.array(frame_c)\n",
    "    # 글자가 잘보이도록 배경을 넣어줌\n",
    "    # img는 사각형을 넣을 이미지, pt1, pt2는 사각형의 시작점과 끝점, color는 색상(파랑,초록,빨강), tickness는 선굵기(-1은 내부를 채우는 것)\n",
    "    cv2.rectangle(img=frame, pt1=(10, 15), pt2=(340, 35), color=(0,0,0), thickness=-1)     \n",
    "    \n",
    "    # 아래의 4줄은 글자를 영상에 더해주는 역할을 함    \n",
    "    frame = Image.fromarray(frame)    \n",
    "    draw = ImageDraw.Draw(frame)    \n",
    "    # xy는 텍스트 시작위치, text는 출력할 문자열, font는 글꼴, fill은 글자색(파랑,초록,빨강)   \n",
    "    draw.text(xy=(10, 15),  text=\"capture\"+nowDatetime, font=font, fill=(255, 255, 255))\n",
    "    frame = np.array(frame)\n",
    "    frame_a = np.array(frame_b)\n",
    "    frame_b = np.array(frame_c)\n",
    "\n",
    "    key = cv2.waitKey(1000)   # 30ms 동안 키입력 대기    \n",
    "    if key == ord('q'):  # 키보드의 q 를 누르면 무한루프가 멈춤\n",
    "            break\n",
    "    cv2.imshow(\"original\", frame)   # 현재 시간을 표시하는 글자를 써준 영상 출력"
   ]
  },
  {
   "cell_type": "code",
   "execution_count": 6,
   "id": "0dd07fd4",
   "metadata": {},
   "outputs": [],
   "source": [
    "capture.release()                   # 캡처 객체를 없애줌\n",
    "cv2.destroyAllWindows()             # 모든 영상 창을 닫아줌"
   ]
  },
  {
   "cell_type": "code",
   "execution_count": null,
   "id": "2ab2df49",
   "metadata": {},
   "outputs": [],
   "source": []
  }
 ],
 "metadata": {
  "kernelspec": {
   "display_name": "Python 3",
   "language": "python",
   "name": "python3"
  },
  "language_info": {
   "codemirror_mode": {
    "name": "ipython",
    "version": 3
   },
   "file_extension": ".py",
   "mimetype": "text/x-python",
   "name": "python",
   "nbconvert_exporter": "python",
   "pygments_lexer": "ipython3",
   "version": "3.8.8"
  }
 },
 "nbformat": 4,
 "nbformat_minor": 5
}
