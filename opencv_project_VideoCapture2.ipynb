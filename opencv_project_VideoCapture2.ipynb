{
 "cells": [
  {
   "cell_type": "code",
   "execution_count": 2,
   "id": "9a6c7ea3",
   "metadata": {},
   "outputs": [],
   "source": [
    "import cv2"
   ]
  },
  {
   "cell_type": "code",
   "execution_count": 3,
   "id": "6f6e5db0",
   "metadata": {},
   "outputs": [
    {
     "name": "stdout",
     "output_type": "stream",
     "text": [
      "no fram\n"
     ]
    }
   ],
   "source": [
    "cap = cv2.VideoCapture(0) #카메라를 열어서 실시간 촬영 frame 받아옴\n",
    "if cap.isOpened(): #비디오캡쳐가 준비되었는지 \n",
    "    while True:\n",
    "        ret,img = cap.read() # 열린 동영상에서 프레임 받아오기\n",
    "        if ret:\n",
    "            cv2.imshow(\"camera\",img)\n",
    "            if cv2.waitKey(1)!=-1:\n",
    "                break\n",
    "        else:\n",
    "            print(\"no fram\")\n",
    "            break\n",
    "else:\n",
    "    print(\"can't open camera\")\n",
    "cap.release()\n",
    "cv2.destroyAllWindows()"
   ]
  },
  {
   "cell_type": "code",
   "execution_count": 4,
   "id": "4580f3a2",
   "metadata": {},
   "outputs": [
    {
     "name": "stdout",
     "output_type": "stream",
     "text": [
      "can't open camera\n"
     ]
    }
   ],
   "source": [
    "cap = cv2.VideoCapture(-1) #캡처 저장하기\n",
    "if cap.isOpened(): \n",
    "    while True: \n",
    "        ret, fram = cap.read() \n",
    "        if ret: \n",
    "            cv2.imshow(\"camera\",fram) #프레임 이미지 표시 \n",
    "            if cv2.waitKey(1) != -1: \n",
    "                cv2.imwrite(\"../photo.jpg\",fram) \n",
    "                break \n",
    "        else: \n",
    "            print(\"no fram\") \n",
    "            break\n",
    "else: \n",
    "    print(\"can't open camera\") \n",
    "cap.release() \n",
    "cv2.destroyAllWindows()"
   ]
  },
  {
   "cell_type": "code",
   "execution_count": null,
   "id": "a23060f8",
   "metadata": {},
   "outputs": [],
   "source": []
  },
  {
   "cell_type": "code",
   "execution_count": null,
   "id": "2015d4f3",
   "metadata": {},
   "outputs": [],
   "source": []
  }
 ],
 "metadata": {
  "kernelspec": {
   "display_name": "Python 3",
   "language": "python",
   "name": "python3"
  },
  "language_info": {
   "codemirror_mode": {
    "name": "ipython",
    "version": 3
   },
   "file_extension": ".py",
   "mimetype": "text/x-python",
   "name": "python",
   "nbconvert_exporter": "python",
   "pygments_lexer": "ipython3",
   "version": "3.8.8"
  }
 },
 "nbformat": 4,
 "nbformat_minor": 5
}
