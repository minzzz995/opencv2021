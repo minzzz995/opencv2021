{
 "cells": [
  {
   "cell_type": "code",
   "execution_count": 3,
   "id": "9a509a66",
   "metadata": {},
   "outputs": [],
   "source": [
    "#   opencv python 코딩\n",
    "#   카메라 연결 코드\n",
    "\n",
    "import cv2\n",
    "import numpy as np #수치해석&계산 -> 행렬\n",
    "\n",
    "import datetime\n",
    "from PIL import ImageFont, ImageDraw, Image #파이썬에서 이미지를 처리하고 핸들링하는 패키지\n",
    "import numpy as np"
   ]
  },
  {
   "cell_type": "code",
   "execution_count": 4,
   "id": "bb14ab64",
   "metadata": {},
   "outputs": [
    {
     "data": {
      "text/plain": [
       "True"
      ]
     },
     "execution_count": 4,
     "metadata": {},
     "output_type": "execute_result"
    }
   ],
   "source": [
    "# opencv python 코딩 기본 틀\n",
    "# 카메라 영상을 받아올 객체 선언 및 설정(영상 소스, 해상도 설정)\n",
    "capture = cv2.VideoCapture(0) #웹캠으로 부터 영상을 가져오겠다\n",
    "capture.set(cv2.CAP_PROP_FRAME_WIDTH, 640) #가져올 영상의 해상도 결정 (해상도가 너무 크면 영상속도가 느려짐)\n",
    "capture.set(cv2.CAP_PROP_FRAME_HEIGHT, 480)"
   ]
  },
  {
   "cell_type": "code",
   "execution_count": 5,
   "id": "17919d04",
   "metadata": {},
   "outputs": [],
   "source": [
    "while True:\n",
    "    ret, frame = capture.read()     # 카메라로부터 현재 영상을 받아 현재 frame에 저장, 잘 받았다면 ret가 참\n",
    "    cv2.imshow(\"original\", frame)   # 받아온 frame(카메라 영상)을 original 이라는 창에 띄워줌 \n",
    "    if cv2.waitKey(1) == ord('q'):  # 키보드의 q 를 누르면 무한루프가 멈춤\n",
    "            break"
   ]
  },
  {
   "cell_type": "code",
   "execution_count": 6,
   "id": "3862df0b",
   "metadata": {},
   "outputs": [],
   "source": [
    "capture.release()                   # 캡처 객체를 없애줌\n",
    "cv2.destroyAllWindows()             # 모든 영상 창을 닫아줌"
   ]
  },
  {
   "cell_type": "code",
   "execution_count": null,
   "id": "07ce58bb",
   "metadata": {},
   "outputs": [],
   "source": []
  }
 ],
 "metadata": {
  "kernelspec": {
   "display_name": "Python 3",
   "language": "python",
   "name": "python3"
  },
  "language_info": {
   "codemirror_mode": {
    "name": "ipython",
    "version": 3
   },
   "file_extension": ".py",
   "mimetype": "text/x-python",
   "name": "python",
   "nbconvert_exporter": "python",
   "pygments_lexer": "ipython3",
   "version": "3.8.8"
  }
 },
 "nbformat": 4,
 "nbformat_minor": 5
}
