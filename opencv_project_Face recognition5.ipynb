{
 "cells": [
  {
   "cell_type": "code",
   "execution_count": 7,
   "id": "b5e5c85b",
   "metadata": {},
   "outputs": [
    {
     "ename": "AttributeError",
     "evalue": "'NoneType' object has no attribute '__array_interface__'",
     "output_type": "error",
     "traceback": [
      "\u001b[1;31m---------------------------------------------------------------------------\u001b[0m",
      "\u001b[1;31mAttributeError\u001b[0m                            Traceback (most recent call last)",
      "\u001b[1;32m<ipython-input-7-26cfc950bd90>\u001b[0m in \u001b[0;36m<module>\u001b[1;34m\u001b[0m\n\u001b[0;32m     26\u001b[0m     \u001b[0mret\u001b[0m\u001b[1;33m,\u001b[0m \u001b[0mframe\u001b[0m \u001b[1;33m=\u001b[0m \u001b[0mcapture\u001b[0m\u001b[1;33m.\u001b[0m\u001b[0mread\u001b[0m\u001b[1;33m(\u001b[0m\u001b[1;33m)\u001b[0m     \u001b[1;31m# 카메라로부터 현재 영상을 받아 frame에 저장, 잘 받았다면 ret가 참\u001b[0m\u001b[1;33m\u001b[0m\u001b[1;33m\u001b[0m\u001b[0m\n\u001b[0;32m     27\u001b[0m \u001b[1;33m\u001b[0m\u001b[0m\n\u001b[1;32m---> 28\u001b[1;33m     \u001b[0mframe\u001b[0m \u001b[1;33m=\u001b[0m \u001b[0mImage\u001b[0m\u001b[1;33m.\u001b[0m\u001b[0mfromarray\u001b[0m\u001b[1;33m(\u001b[0m\u001b[0mframe\u001b[0m\u001b[1;33m)\u001b[0m\u001b[1;33m\u001b[0m\u001b[1;33m\u001b[0m\u001b[0m\n\u001b[0m\u001b[0;32m     29\u001b[0m     \u001b[0mframe\u001b[0m \u001b[1;33m=\u001b[0m \u001b[0mnp\u001b[0m\u001b[1;33m.\u001b[0m\u001b[0marray\u001b[0m\u001b[1;33m(\u001b[0m\u001b[0mframe\u001b[0m\u001b[1;33m)\u001b[0m\u001b[1;33m\u001b[0m\u001b[1;33m\u001b[0m\u001b[0m\n\u001b[0;32m     30\u001b[0m \u001b[1;33m\u001b[0m\u001b[0m\n",
      "\u001b[1;32mC:\\ProgramData\\Anaconda3\\lib\\site-packages\\PIL\\Image.py\u001b[0m in \u001b[0;36mfromarray\u001b[1;34m(obj, mode)\u001b[0m\n\u001b[0;32m   2760\u001b[0m     \u001b[1;33m.\u001b[0m\u001b[1;33m.\u001b[0m \u001b[0mversionadded\u001b[0m\u001b[1;33m:\u001b[0m\u001b[1;33m:\u001b[0m \u001b[1;36m1.1\u001b[0m\u001b[1;36m.6\u001b[0m\u001b[1;33m\u001b[0m\u001b[1;33m\u001b[0m\u001b[0m\n\u001b[0;32m   2761\u001b[0m     \"\"\"\n\u001b[1;32m-> 2762\u001b[1;33m     \u001b[0marr\u001b[0m \u001b[1;33m=\u001b[0m \u001b[0mobj\u001b[0m\u001b[1;33m.\u001b[0m\u001b[0m__array_interface__\u001b[0m\u001b[1;33m\u001b[0m\u001b[1;33m\u001b[0m\u001b[0m\n\u001b[0m\u001b[0;32m   2763\u001b[0m     \u001b[0mshape\u001b[0m \u001b[1;33m=\u001b[0m \u001b[0marr\u001b[0m\u001b[1;33m[\u001b[0m\u001b[1;34m\"shape\"\u001b[0m\u001b[1;33m]\u001b[0m\u001b[1;33m\u001b[0m\u001b[1;33m\u001b[0m\u001b[0m\n\u001b[0;32m   2764\u001b[0m     \u001b[0mndim\u001b[0m \u001b[1;33m=\u001b[0m \u001b[0mlen\u001b[0m\u001b[1;33m(\u001b[0m\u001b[0mshape\u001b[0m\u001b[1;33m)\u001b[0m\u001b[1;33m\u001b[0m\u001b[1;33m\u001b[0m\u001b[0m\n",
      "\u001b[1;31mAttributeError\u001b[0m: 'NoneType' object has no attribute '__array_interface__'"
     ]
    }
   ],
   "source": [
    "#   opencv python 코딩\n",
    "#   영상 녹화, 영상화면 캡처\n",
    "\n",
    "import cv2\n",
    "import datetime\n",
    "from PIL import ImageFont, ImageDraw, Image\n",
    "import numpy as np\n",
    "\n",
    "\n",
    "# 카메라 영상을 받아올 객체 선언 및 설정(영상 소스, 해상도 설정)\n",
    "capture = cv2.VideoCapture(1)\n",
    "capture.set(cv2.CAP_PROP_FRAME_WIDTH, 640)\n",
    "capture.set(cv2.CAP_PROP_FRAME_HEIGHT, 480)\n",
    "\n",
    "fourcc = cv2.VideoWriter_fourcc(*'XVID')    # 영상을 기록할 코덱 설정\n",
    "font = ImageFont.truetype('fonts/bahnschrift.ttf', 20) # 글꼴파일을 불러옴\n",
    "is_record = False                           # 녹화상태는 처음엔 거짓으로 설정\n",
    "\n",
    "# 무한루프\n",
    "while True:\n",
    "    # 현재시각을 불러와 문자열로저장\n",
    "    now = datetime.datetime.now()\n",
    "    nowDatetime = now.strftime('%Y-%m-%d %H:%M:%S')\n",
    "    nowDatetime_path = now.strftime('%Y-%m-%d %H_%M_%S') # 파일이름으로는 :를 못쓰기 때문에 따로 만들어줌\n",
    "    ret, frame = capture.read()     # 카메라로부터 현재 영상을 받아 frame에 저장, 잘 받았다면 ret가 참\n",
    "    \n",
    "    frame = Image.fromarray(frame)    \n",
    "    frame = np.array(frame)\n",
    "\n",
    "    \n",
    "    key = cv2.waitKey(30)   # 30ms 동안 키입력 대기\n",
    "    if key == ord('r') and is_record == False:  # 현재 녹화상태가 아니며 r 키를 누르면\n",
    "        is_record = True            # 녹화상태로 만들어줌\n",
    "        # 비디오 객체에 (파일이름(한글가능), 인코더, 초당프레임률(정확하지 않음), 영상크기) 로 영상을 쓸 준비\n",
    "        video = cv2.VideoWriter(\"공대선배 웹캠 \" + nowDatetime_path + \".avi\", fourcc, 15, (frame.shape[1], frame.shape[0]))\n",
    "    elif key == ord('r') and is_record == True: # 녹화중인 상태에서 다시 r키를 누르면\n",
    "        is_record = False       # 녹화상태를 꺼줌\n",
    "        video.release()         # 녹화 종료\n",
    "    elif key == ord('c'):       # c 키를 누르면\n",
    "        # (파일이름(한글불가, 영어만), 이미지)로 영상을 캡쳐하여 그림파일로 저장\n",
    "        cv2.imwrite(\"capture \" + nowDatetime_path + \".png\", frame)  # 파일이름(한글안됨), 이미지 \n",
    "    elif key == ord('q'):  # 키보드의 q 를 누르면 무한루프가 멈춤\n",
    "            break\n",
    "    if is_record == True:       # 현재 녹화상태이면            \n",
    "        # 비디오 객체에 현재 프레임 저장\n",
    "        video.write(frame)\n",
    "        # 녹화중이라는 것을 보여주기 위해 보여주는 화면에는 빨간색 점을 표시해줌\n",
    "        cv2.circle(img=frame, center=(620, 15), radius=5, color=(0,0,255), thickness=-1)\n",
    "    cv2.imshow(\"output\", frame)   # 현재 시간을 표시하는 글자를 써준 영상 출력"
   ]
  },
  {
   "cell_type": "code",
   "execution_count": null,
   "id": "64a1252c",
   "metadata": {},
   "outputs": [],
   "source": [
    "capture.release()                   # 캡처 객체를 없애줌\n",
    "cv2.destroyAllWindows()             # 모든 영상 창을 닫아줌"
   ]
  }
 ],
 "metadata": {
  "kernelspec": {
   "display_name": "Python 3",
   "language": "python",
   "name": "python3"
  },
  "language_info": {
   "codemirror_mode": {
    "name": "ipython",
    "version": 3
   },
   "file_extension": ".py",
   "mimetype": "text/x-python",
   "name": "python",
   "nbconvert_exporter": "python",
   "pygments_lexer": "ipython3",
   "version": "3.8.8"
  }
 },
 "nbformat": 4,
 "nbformat_minor": 5
}
