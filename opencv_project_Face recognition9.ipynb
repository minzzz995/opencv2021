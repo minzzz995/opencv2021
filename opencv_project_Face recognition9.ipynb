{
 "cells": [
  {
   "cell_type": "code",
   "execution_count": 1,
   "id": "63c2b9c2",
   "metadata": {},
   "outputs": [],
   "source": [
    "#   opencv python 코딩\n",
    "#   영상 녹화, 영상화면 캡처\n",
    "\n",
    "import cv2\n",
    "import datetime\n",
    "from PIL import ImageFont, ImageDraw, Image #파이썬에서 이미지를 처리하고 핸들링하는 패키지\n",
    "import numpy as np"
   ]
  },
  {
   "cell_type": "code",
   "execution_count": 7,
   "id": "1d4fb18f",
   "metadata": {},
   "outputs": [],
   "source": [
    "# opencv python 코딩 기본 틀\n",
    "# 카메라 영상을 받아올 객체 선언 및 설정(영상 소스, 해상도 설정)\n",
    "capture = cv2.VideoCapture(0) #웹캠으로 부터 영상을 가져오겠다\n",
    "capture.set(cv2.CAP_PROP_FRAME_WIDTH, 640) #가져올 영상의 해상도 결정 (해상도가 너무 크면 영상속도가 느려짐)\n",
    "capture.set(cv2.CAP_PROP_FRAME_HEIGHT, 480)\n",
    "\n",
    "is_record = False \n",
    "\n",
    "# # 카메라 영상을 받아올 객체 선언 및 설정(영상 소스, 해상도 설정)\n",
    "# capture = cv2.VideoCapture(1)\n",
    "# capture.set(cv2.CAP_PROP_FRAME_WIDTH, 640)\n",
    "# capture.set(cv2.CAP_PROP_FRAME_HEIGHT, 480)\n",
    "\n",
    "fourcc = cv2.VideoWriter_fourcc(*'XVID')    # 영상을 기록할 코덱 설정 (영상녹화시 어떤 인코딩을 할 것인지)\n",
    "font = ImageFont.truetype('fonts/bahnschrift.ttf', 20) # 글꼴파일을 불러옴\n",
    "#is_record = False                           # 녹화상태는 처음엔 거짓으로 설정"
   ]
  },
  {
   "cell_type": "code",
   "execution_count": 5,
   "id": "6bbe9ca0",
   "metadata": {},
   "outputs": [
    {
     "ename": "NameError",
     "evalue": "name 'video' is not defined",
     "output_type": "error",
     "traceback": [
      "\u001b[1;31m---------------------------------------------------------------------------\u001b[0m",
      "\u001b[1;31mNameError\u001b[0m                                 Traceback (most recent call last)",
      "\u001b[1;32m<ipython-input-5-489a6711f661>\u001b[0m in \u001b[0;36m<module>\u001b[1;34m\u001b[0m\n\u001b[0;32m     30\u001b[0m     \u001b[1;32mif\u001b[0m \u001b[0mis_record\u001b[0m \u001b[1;33m==\u001b[0m \u001b[1;32mTrue\u001b[0m\u001b[1;33m:\u001b[0m       \u001b[1;31m# 현재 녹화상태이면\u001b[0m\u001b[1;33m\u001b[0m\u001b[1;33m\u001b[0m\u001b[0m\n\u001b[0;32m     31\u001b[0m         \u001b[1;31m# 비디오 객체에 현재 프레임 저장\u001b[0m\u001b[1;33m\u001b[0m\u001b[1;33m\u001b[0m\u001b[1;33m\u001b[0m\u001b[0m\n\u001b[1;32m---> 32\u001b[1;33m         \u001b[0mvideo\u001b[0m\u001b[1;33m.\u001b[0m\u001b[0mwrite\u001b[0m\u001b[1;33m(\u001b[0m\u001b[0mframe\u001b[0m\u001b[1;33m)\u001b[0m\u001b[1;33m\u001b[0m\u001b[1;33m\u001b[0m\u001b[0m\n\u001b[0m\u001b[0;32m     33\u001b[0m         \u001b[1;31m# 녹화중이라는 것을 보여주기 위해 보여주는 화면에는 빨간색 점을 표시해줌\u001b[0m\u001b[1;33m\u001b[0m\u001b[1;33m\u001b[0m\u001b[1;33m\u001b[0m\u001b[0m\n\u001b[0;32m     34\u001b[0m         \u001b[0mcv2\u001b[0m\u001b[1;33m.\u001b[0m\u001b[0mcircle\u001b[0m\u001b[1;33m(\u001b[0m\u001b[0mimg\u001b[0m\u001b[1;33m=\u001b[0m\u001b[0mframe\u001b[0m\u001b[1;33m,\u001b[0m \u001b[0mcenter\u001b[0m\u001b[1;33m=\u001b[0m\u001b[1;33m(\u001b[0m\u001b[1;36m620\u001b[0m\u001b[1;33m,\u001b[0m \u001b[1;36m15\u001b[0m\u001b[1;33m)\u001b[0m\u001b[1;33m,\u001b[0m \u001b[0mradius\u001b[0m\u001b[1;33m=\u001b[0m\u001b[1;36m5\u001b[0m\u001b[1;33m,\u001b[0m \u001b[0mcolor\u001b[0m\u001b[1;33m=\u001b[0m\u001b[1;33m(\u001b[0m\u001b[1;36m0\u001b[0m\u001b[1;33m,\u001b[0m\u001b[1;36m0\u001b[0m\u001b[1;33m,\u001b[0m\u001b[1;36m255\u001b[0m\u001b[1;33m)\u001b[0m\u001b[1;33m,\u001b[0m \u001b[0mthickness\u001b[0m\u001b[1;33m=\u001b[0m\u001b[1;33m-\u001b[0m\u001b[1;36m1\u001b[0m\u001b[1;33m)\u001b[0m\u001b[1;33m\u001b[0m\u001b[1;33m\u001b[0m\u001b[0m\n",
      "\u001b[1;31mNameError\u001b[0m: name 'video' is not defined"
     ]
    }
   ],
   "source": [
    "while True:\n",
    "    # 현재시각을 불러와 문자열로저장\n",
    "    now = datetime.datetime.now()\n",
    "    nowDatetime = now.strftime('%Y-%m-%d %H:%M:%S')\n",
    "    nowDatetime_path = now.strftime('%Y-%m-%d %H_%M_%S') # 파일이름으로는 :를 못쓰기 때문에 따로 만들어줌\n",
    "    ret, frame = capture.read()     # 카메라로부터 현재 영상을 받아 frame에 저장, 잘 받았다면 ret가 참\n",
    "    \n",
    "    # img는 사각형을 넣을 이미지, pt1, pt2는 사각형의 시작점과 끝점, color는 색상(파랑,초록,빨강), tickness는 선굵기(-1은 내부를 채우는 것)\n",
    "    cv2.rectangle(img=frame, pt1=(10, 15), pt2=(340, 35), color=(0,0,0), thickness=-1)\n",
    "    # 아래의 4줄은 글자를 영상에 더해주는 역할을 함 \n",
    "    frame = Image.fromarray(frame)\n",
    "    draw = ImageDraw.Draw(frame)\n",
    "    # xy는 텍스트 시작위치, text는 출력할 문자열, font는 글꼴, fill은 글자색(파랑,초록,빨강)   \n",
    "    draw.text(xy=(10, 15),  text=\"test \"+nowDatetime, fill=(255, 255, 255))\n",
    "    frame = np.array(frame)\n",
    "    \n",
    "    key = cv2.waitKey(30)   # 30ms 동안 키입력 대기\n",
    "    if key == ord('r') and is_record == False:  # 현재 녹화상태가 아니며 r 키를 누르면\n",
    "        is_record = True            # 녹화상태로 만들어줌\n",
    "        # 비디오 객체에 (파일이름(한글가능), 인코더, 초당프레임률(정확하지 않음), 영상크기) 로 영상을 쓸 준비\n",
    "        video = cv2.VideoWriter(\"녹화본\" + nowDatetime_path + \".avi\", fourcc, 15, (frame.shape[1], frame.shape[0]))\n",
    "    elif key == ord('r') and is_record == True: # 녹화중인 상태에서 다시 r키를 누르면\n",
    "        is_record = False       # 녹화상태를 꺼줌\n",
    "        video.release()         # 녹화 종료\n",
    "    elif key == ord('c'):       # c 키를 누르면\n",
    "        # (파일이름(한글불가, 영어만), 이미지)로 영상을 캡쳐하여 그림파일로 저장\n",
    "        cv2.imwrite(\"capture \" + nowDatetime_path + \".png\", frame)  # 파일이름(한글안됨), 이미지 \n",
    "    elif key == ord('q'):  # 키보드의 q 를 누르면 무한루프가 멈춤\n",
    "            break\n",
    "    if is_record == True:       # 현재 녹화상태이면            \n",
    "        # 비디오 객체에 현재 프레임 저장\n",
    "        video.write(frame)\n",
    "        # 녹화중이라는 것을 보여주기 위해 보여주는 화면에는 빨간색 점을 표시해줌\n",
    "        cv2.circle(img=frame, center=(620, 15), radius=5, color=(0,0,255), thickness=-1)\n",
    "    cv2.imshow(\"output\", frame)\n",
    "    if cv2.waitKey(1) == ord('q'):  # 키보드의 q 를 누르면 무한루프가 멈춤\n",
    "            break\n",
    "\n",
    "#     cv2.imshow(\"original\", frame)"
   ]
  },
  {
   "cell_type": "code",
   "execution_count": 6,
   "id": "f3279984",
   "metadata": {},
   "outputs": [],
   "source": [
    "capture.release()                   # 캡처 객체를 없애줌\n",
    "cv2.destroyAllWindows()             # 모든 영상 창을 닫아줌"
   ]
  }
 ],
 "metadata": {
  "kernelspec": {
   "display_name": "Python 3",
   "language": "python",
   "name": "python3"
  },
  "language_info": {
   "codemirror_mode": {
    "name": "ipython",
    "version": 3
   },
   "file_extension": ".py",
   "mimetype": "text/x-python",
   "name": "python",
   "nbconvert_exporter": "python",
   "pygments_lexer": "ipython3",
   "version": "3.8.8"
  }
 },
 "nbformat": 4,
 "nbformat_minor": 5
}
