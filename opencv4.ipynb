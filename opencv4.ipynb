{
 "cells": [
  {
   "cell_type": "code",
   "execution_count": 5,
   "id": "2b9a108c",
   "metadata": {},
   "outputs": [],
   "source": [
    "import cv2"
   ]
  },
  {
   "cell_type": "code",
   "execution_count": 6,
   "id": "8007c46d",
   "metadata": {},
   "outputs": [],
   "source": [
    "import numpy as np"
   ]
  },
  {
   "cell_type": "code",
   "execution_count": 36,
   "id": "e79375d8",
   "metadata": {},
   "outputs": [
    {
     "name": "stdout",
     "output_type": "stream",
     "text": [
      "Collecting dlib\n",
      "  Using cached dlib-19.22.1.tar.gz (7.4 MB)\n",
      "Building wheels for collected packages: dlib\n",
      "  Building wheel for dlib (setup.py): started\n",
      "  Building wheel for dlib (setup.py): finished with status 'error'\n",
      "  Running setup.py clean for dlibNote: you may need to restart the kernel to use updated packages.\n"
     ]
    },
    {
     "name": "stderr",
     "output_type": "stream",
     "text": [
      "  ERROR: Command errored out with exit status 1:\n",
      "   command: 'C:\\ProgramData\\Anaconda3\\python.exe' -u -c 'import sys, setuptools, tokenize; sys.argv[0] = '\"'\"'C:\\\\Users\\\\CPB06GameN\\\\AppData\\\\Local\\\\Temp\\\\pip-install-bgiejswa\\\\dlib_3430dd95d56a4c3bb82c7024b36cb379\\\\setup.py'\"'\"'; __file__='\"'\"'C:\\\\Users\\\\CPB06GameN\\\\AppData\\\\Local\\\\Temp\\\\pip-install-bgiejswa\\\\dlib_3430dd95d56a4c3bb82c7024b36cb379\\\\setup.py'\"'\"';f=getattr(tokenize, '\"'\"'open'\"'\"', open)(__file__);code=f.read().replace('\"'\"'\\r\\n'\"'\"', '\"'\"'\\n'\"'\"');f.close();exec(compile(code, __file__, '\"'\"'exec'\"'\"'))' bdist_wheel -d 'C:\\Users\\CPB06GameN\\AppData\\Local\\Temp\\pip-wheel-2pn4hcpl'\n",
      "       cwd: C:\\Users\\CPB06GameN\\AppData\\Local\\Temp\\pip-install-bgiejswa\\dlib_3430dd95d56a4c3bb82c7024b36cb379\\\n",
      "  Complete output (58 lines):\n",
      "  running bdist_wheel\n",
      "  running build\n",
      "  running build_py\n",
      "  package init file 'tools\\python\\dlib\\__init__.py' not found (or not a regular file)\n",
      "  running build_ext\n",
      "  Building extension for Python 3.8.8 (default, Apr 13 2021, 15:08:03) [MSC v.1916 64 bit (AMD64)]\n",
      "  Invoking CMake setup: 'cmake C:\\Users\\CPB06GameN\\AppData\\Local\\Temp\\pip-install-bgiejswa\\dlib_3430dd95d56a4c3bb82c7024b36cb379\\tools\\python -DCMAKE_LIBRARY_OUTPUT_DIRECTORY=C:\\Users\\CPB06GameN\\AppData\\Local\\Temp\\pip-install-bgiejswa\\dlib_3430dd95d56a4c3bb82c7024b36cb379\\build\\lib.win-amd64-3.8 -DPYTHON_EXECUTABLE=C:\\ProgramData\\Anaconda3\\python.exe -DCMAKE_LIBRARY_OUTPUT_DIRECTORY_RELEASE=C:\\Users\\CPB06GameN\\AppData\\Local\\Temp\\pip-install-bgiejswa\\dlib_3430dd95d56a4c3bb82c7024b36cb379\\build\\lib.win-amd64-3.8 -A x64'\n",
      "  -- Building for: NMake Makefiles\n",
      "  CMake Error at CMakeLists.txt:5 (message):\n",
      "  \n",
      "  \n",
      "  \n",
      "    !!!!!!!!!!!!!!!!!!!!!!!!!!!!!!!!!!!!!!!!!!!!!!!!!!!!!!!!!!!!!!!!!!!!!!!!!!!!!!!\n",
      "  \n",
      "  \n",
      "    You must use Visual Studio to build a python extension on windows.  If you\n",
      "    are getting this error it means you have not installed Visual C++.  Note\n",
      "    that there are many flavors of Visual Studio, like Visual Studio for C#\n",
      "    development.  You need to install Visual Studio for C++.\n",
      "  \n",
      "  \n",
      "    !!!!!!!!!!!!!!!!!!!!!!!!!!!!!!!!!!!!!!!!!!!!!!!!!!!!!!!!!!!!!!!!!!!!!!!!!!!!!!!\n",
      "  \n",
      "  \n",
      "  \n",
      "  \n",
      "  -- Configuring incomplete, errors occurred!\n",
      "  Traceback (most recent call last):\n",
      "    File \"<string>\", line 1, in <module>\n",
      "    File \"C:\\Users\\CPB06GameN\\AppData\\Local\\Temp\\pip-install-bgiejswa\\dlib_3430dd95d56a4c3bb82c7024b36cb379\\setup.py\", line 222, in <module>\n",
      "      setup(\n",
      "    File \"C:\\ProgramData\\Anaconda3\\lib\\site-packages\\setuptools\\__init__.py\", line 153, in setup\n",
      "      return distutils.core.setup(**attrs)\n",
      "    File \"C:\\ProgramData\\Anaconda3\\lib\\distutils\\core.py\", line 148, in setup\n",
      "      dist.run_commands()\n",
      "    File \"C:\\ProgramData\\Anaconda3\\lib\\distutils\\dist.py\", line 966, in run_commands\n",
      "      self.run_command(cmd)\n",
      "    File \"C:\\ProgramData\\Anaconda3\\lib\\distutils\\dist.py\", line 985, in run_command\n",
      "      cmd_obj.run()\n",
      "    File \"C:\\ProgramData\\Anaconda3\\lib\\site-packages\\wheel\\bdist_wheel.py\", line 299, in run\n",
      "      self.run_command('build')\n",
      "    File \"C:\\ProgramData\\Anaconda3\\lib\\distutils\\cmd.py\", line 313, in run_command\n",
      "      self.distribution.run_command(command)\n",
      "    File \"C:\\ProgramData\\Anaconda3\\lib\\distutils\\dist.py\", line 985, in run_command\n",
      "      cmd_obj.run()\n",
      "    File \"C:\\ProgramData\\Anaconda3\\lib\\distutils\\command\\build.py\", line 135, in run\n",
      "      self.run_command(cmd_name)\n",
      "    File \"C:\\ProgramData\\Anaconda3\\lib\\distutils\\cmd.py\", line 313, in run_command\n",
      "      self.distribution.run_command(command)\n",
      "    File \"C:\\ProgramData\\Anaconda3\\lib\\distutils\\dist.py\", line 985, in run_command\n",
      "      cmd_obj.run()\n",
      "    File \"C:\\Users\\CPB06GameN\\AppData\\Local\\Temp\\pip-install-bgiejswa\\dlib_3430dd95d56a4c3bb82c7024b36cb379\\setup.py\", line 134, in run\n",
      "      self.build_extension(ext)\n",
      "    File \"C:\\Users\\CPB06GameN\\AppData\\Local\\Temp\\pip-install-bgiejswa\\dlib_3430dd95d56a4c3bb82c7024b36cb379\\setup.py\", line 171, in build_extension\n",
      "      subprocess.check_call(cmake_setup, cwd=build_folder)\n",
      "    File \"C:\\ProgramData\\Anaconda3\\lib\\subprocess.py\", line 364, in check_call\n",
      "      raise CalledProcessError(retcode, cmd)\n",
      "  subprocess.CalledProcessError: Command '['cmake', 'C:\\\\Users\\\\CPB06GameN\\\\AppData\\\\Local\\\\Temp\\\\pip-install-bgiejswa\\\\dlib_3430dd95d56a4c3bb82c7024b36cb379\\\\tools\\\\python', '-DCMAKE_LIBRARY_OUTPUT_DIRECTORY=C:\\\\Users\\\\CPB06GameN\\\\AppData\\\\Local\\\\Temp\\\\pip-install-bgiejswa\\\\dlib_3430dd95d56a4c3bb82c7024b36cb379\\\\build\\\\lib.win-amd64-3.8', '-DPYTHON_EXECUTABLE=C:\\\\ProgramData\\\\Anaconda3\\\\python.exe', '-DCMAKE_LIBRARY_OUTPUT_DIRECTORY_RELEASE=C:\\\\Users\\\\CPB06GameN\\\\AppData\\\\Local\\\\Temp\\\\pip-install-bgiejswa\\\\dlib_3430dd95d56a4c3bb82c7024b36cb379\\\\build\\\\lib.win-amd64-3.8', '-A', 'x64']' returned non-zero exit status 1.\n",
      "  ----------------------------------------\n",
      "  ERROR: Failed building wheel for dlib\n",
      "    ERROR: Command errored out with exit status 1:\n",
      "     command: 'C:\\ProgramData\\Anaconda3\\python.exe' -u -c 'import sys, setuptools, tokenize; sys.argv[0] = '\"'\"'C:\\\\Users\\\\CPB06GameN\\\\AppData\\\\Local\\\\Temp\\\\pip-install-bgiejswa\\\\dlib_3430dd95d56a4c3bb82c7024b36cb379\\\\setup.py'\"'\"'; __file__='\"'\"'C:\\\\Users\\\\CPB06GameN\\\\AppData\\\\Local\\\\Temp\\\\pip-install-bgiejswa\\\\dlib_3430dd95d56a4c3bb82c7024b36cb379\\\\setup.py'\"'\"';f=getattr(tokenize, '\"'\"'open'\"'\"', open)(__file__);code=f.read().replace('\"'\"'\\r\\n'\"'\"', '\"'\"'\\n'\"'\"');f.close();exec(compile(code, __file__, '\"'\"'exec'\"'\"'))' install --record 'C:\\Users\\CPB06GameN\\AppData\\Local\\Temp\\pip-record-c9uvgsru\\install-record.txt' --single-version-externally-managed --compile --install-headers 'C:\\ProgramData\\Anaconda3\\Include\\dlib'\n",
      "         cwd: C:\\Users\\CPB06GameN\\AppData\\Local\\Temp\\pip-install-bgiejswa\\dlib_3430dd95d56a4c3bb82c7024b36cb379\\"
     ]
    },
    {
     "name": "stdout",
     "output_type": "stream",
     "text": [
      "\n",
      "Failed to build dlib\n",
      "Installing collected packages: dlib\n",
      "    Running setup.py install for dlib: started\n",
      "    Running setup.py install for dlib: finished with status 'error'\n"
     ]
    },
    {
     "name": "stderr",
     "output_type": "stream",
     "text": [
      "\n",
      "    Complete output (60 lines):\n",
      "    running install\n",
      "    running build\n",
      "    running build_py\n",
      "    package init file 'tools\\python\\dlib\\__init__.py' not found (or not a regular file)\n",
      "    running build_ext\n",
      "    Building extension for Python 3.8.8 (default, Apr 13 2021, 15:08:03) [MSC v.1916 64 bit (AMD64)]\n",
      "    Invoking CMake setup: 'cmake C:\\Users\\CPB06GameN\\AppData\\Local\\Temp\\pip-install-bgiejswa\\dlib_3430dd95d56a4c3bb82c7024b36cb379\\tools\\python -DCMAKE_LIBRARY_OUTPUT_DIRECTORY=C:\\Users\\CPB06GameN\\AppData\\Local\\Temp\\pip-install-bgiejswa\\dlib_3430dd95d56a4c3bb82c7024b36cb379\\build\\lib.win-amd64-3.8 -DPYTHON_EXECUTABLE=C:\\ProgramData\\Anaconda3\\python.exe -DCMAKE_LIBRARY_OUTPUT_DIRECTORY_RELEASE=C:\\Users\\CPB06GameN\\AppData\\Local\\Temp\\pip-install-bgiejswa\\dlib_3430dd95d56a4c3bb82c7024b36cb379\\build\\lib.win-amd64-3.8 -A x64'\n",
      "    -- Building for: NMake Makefiles\n",
      "    CMake Error at CMakeLists.txt:5 (message):\n",
      "    \n",
      "    \n",
      "    \n",
      "      !!!!!!!!!!!!!!!!!!!!!!!!!!!!!!!!!!!!!!!!!!!!!!!!!!!!!!!!!!!!!!!!!!!!!!!!!!!!!!!\n",
      "    \n",
      "    \n",
      "      You must use Visual Studio to build a python extension on windows.  If you\n",
      "      are getting this error it means you have not installed Visual C++.  Note\n",
      "      that there are many flavors of Visual Studio, like Visual Studio for C#\n",
      "      development.  You need to install Visual Studio for C++.\n",
      "    \n",
      "    \n",
      "      !!!!!!!!!!!!!!!!!!!!!!!!!!!!!!!!!!!!!!!!!!!!!!!!!!!!!!!!!!!!!!!!!!!!!!!!!!!!!!!\n",
      "    \n",
      "    \n",
      "    \n",
      "    \n",
      "    -- Configuring incomplete, errors occurred!\n",
      "    Traceback (most recent call last):\n",
      "      File \"<string>\", line 1, in <module>\n",
      "      File \"C:\\Users\\CPB06GameN\\AppData\\Local\\Temp\\pip-install-bgiejswa\\dlib_3430dd95d56a4c3bb82c7024b36cb379\\setup.py\", line 222, in <module>\n",
      "        setup(\n",
      "      File \"C:\\ProgramData\\Anaconda3\\lib\\site-packages\\setuptools\\__init__.py\", line 153, in setup\n",
      "        return distutils.core.setup(**attrs)\n",
      "      File \"C:\\ProgramData\\Anaconda3\\lib\\distutils\\core.py\", line 148, in setup\n",
      "        dist.run_commands()\n",
      "      File \"C:\\ProgramData\\Anaconda3\\lib\\distutils\\dist.py\", line 966, in run_commands\n",
      "        self.run_command(cmd)\n",
      "      File \"C:\\ProgramData\\Anaconda3\\lib\\distutils\\dist.py\", line 985, in run_command\n",
      "        cmd_obj.run()\n",
      "      File \"C:\\ProgramData\\Anaconda3\\lib\\site-packages\\setuptools\\command\\install.py\", line 61, in run\n",
      "        return orig.install.run(self)\n",
      "      File \"C:\\ProgramData\\Anaconda3\\lib\\distutils\\command\\install.py\", line 545, in run\n",
      "        self.run_command('build')\n",
      "      File \"C:\\ProgramData\\Anaconda3\\lib\\distutils\\cmd.py\", line 313, in run_command\n",
      "        self.distribution.run_command(command)\n",
      "      File \"C:\\ProgramData\\Anaconda3\\lib\\distutils\\dist.py\", line 985, in run_command\n",
      "        cmd_obj.run()\n",
      "      File \"C:\\ProgramData\\Anaconda3\\lib\\distutils\\command\\build.py\", line 135, in run\n",
      "        self.run_command(cmd_name)\n",
      "      File \"C:\\ProgramData\\Anaconda3\\lib\\distutils\\cmd.py\", line 313, in run_command\n",
      "        self.distribution.run_command(command)\n",
      "      File \"C:\\ProgramData\\Anaconda3\\lib\\distutils\\dist.py\", line 985, in run_command\n",
      "        cmd_obj.run()\n",
      "      File \"C:\\Users\\CPB06GameN\\AppData\\Local\\Temp\\pip-install-bgiejswa\\dlib_3430dd95d56a4c3bb82c7024b36cb379\\setup.py\", line 134, in run\n",
      "        self.build_extension(ext)\n",
      "      File \"C:\\Users\\CPB06GameN\\AppData\\Local\\Temp\\pip-install-bgiejswa\\dlib_3430dd95d56a4c3bb82c7024b36cb379\\setup.py\", line 171, in build_extension\n",
      "        subprocess.check_call(cmake_setup, cwd=build_folder)\n",
      "      File \"C:\\ProgramData\\Anaconda3\\lib\\subprocess.py\", line 364, in check_call\n",
      "        raise CalledProcessError(retcode, cmd)\n",
      "    subprocess.CalledProcessError: Command '['cmake', 'C:\\\\Users\\\\CPB06GameN\\\\AppData\\\\Local\\\\Temp\\\\pip-install-bgiejswa\\\\dlib_3430dd95d56a4c3bb82c7024b36cb379\\\\tools\\\\python', '-DCMAKE_LIBRARY_OUTPUT_DIRECTORY=C:\\\\Users\\\\CPB06GameN\\\\AppData\\\\Local\\\\Temp\\\\pip-install-bgiejswa\\\\dlib_3430dd95d56a4c3bb82c7024b36cb379\\\\build\\\\lib.win-amd64-3.8', '-DPYTHON_EXECUTABLE=C:\\\\ProgramData\\\\Anaconda3\\\\python.exe', '-DCMAKE_LIBRARY_OUTPUT_DIRECTORY_RELEASE=C:\\\\Users\\\\CPB06GameN\\\\AppData\\\\Local\\\\Temp\\\\pip-install-bgiejswa\\\\dlib_3430dd95d56a4c3bb82c7024b36cb379\\\\build\\\\lib.win-amd64-3.8', '-A', 'x64']' returned non-zero exit status 1.\n",
      "    ----------------------------------------\n",
      "ERROR: Command errored out with exit status 1: 'C:\\ProgramData\\Anaconda3\\python.exe' -u -c 'import sys, setuptools, tokenize; sys.argv[0] = '\"'\"'C:\\\\Users\\\\CPB06GameN\\\\AppData\\\\Local\\\\Temp\\\\pip-install-bgiejswa\\\\dlib_3430dd95d56a4c3bb82c7024b36cb379\\\\setup.py'\"'\"'; __file__='\"'\"'C:\\\\Users\\\\CPB06GameN\\\\AppData\\\\Local\\\\Temp\\\\pip-install-bgiejswa\\\\dlib_3430dd95d56a4c3bb82c7024b36cb379\\\\setup.py'\"'\"';f=getattr(tokenize, '\"'\"'open'\"'\"', open)(__file__);code=f.read().replace('\"'\"'\\r\\n'\"'\"', '\"'\"'\\n'\"'\"');f.close();exec(compile(code, __file__, '\"'\"'exec'\"'\"'))' install --record 'C:\\Users\\CPB06GameN\\AppData\\Local\\Temp\\pip-record-c9uvgsru\\install-record.txt' --single-version-externally-managed --compile --install-headers 'C:\\ProgramData\\Anaconda3\\Include\\dlib' Check the logs for full command output.\n"
     ]
    }
   ],
   "source": [
    "pip install dlib"
   ]
  },
  {
   "cell_type": "code",
   "execution_count": 11,
   "id": "45419bb2",
   "metadata": {},
   "outputs": [
    {
     "name": "stdout",
     "output_type": "stream",
     "text": [
      "Requirement already satisfied: cmake in c:\\programdata\\anaconda3\\lib\\site-packages (3.21.2)\n",
      "Note: you may need to restart the kernel to use updated packages.\n"
     ]
    }
   ],
   "source": [
    "#pip install cmake"
   ]
  },
  {
   "cell_type": "code",
   "execution_count": 7,
   "id": "8c388cb2",
   "metadata": {},
   "outputs": [],
   "source": [
    "import cmake"
   ]
  },
  {
   "cell_type": "code",
   "execution_count": 8,
   "id": "4fa7dcf0",
   "metadata": {},
   "outputs": [],
   "source": [
    "import imutils"
   ]
  },
  {
   "cell_type": "code",
   "execution_count": 39,
   "id": "30a6605e",
   "metadata": {},
   "outputs": [
    {
     "ename": "ModuleNotFoundError",
     "evalue": "No module named 'dlib'",
     "output_type": "error",
     "traceback": [
      "\u001b[1;31m---------------------------------------------------------------------------\u001b[0m",
      "\u001b[1;31mModuleNotFoundError\u001b[0m                       Traceback (most recent call last)",
      "\u001b[1;32m<ipython-input-39-d25f48e861da>\u001b[0m in \u001b[0;36m<module>\u001b[1;34m\u001b[0m\n\u001b[1;32m----> 1\u001b[1;33m \u001b[1;32mimport\u001b[0m \u001b[0mdlib\u001b[0m\u001b[1;33m\u001b[0m\u001b[1;33m\u001b[0m\u001b[0m\n\u001b[0m",
      "\u001b[1;31mModuleNotFoundError\u001b[0m: No module named 'dlib'"
     ]
    }
   ],
   "source": [
    "import dlib"
   ]
  },
  {
   "cell_type": "code",
   "execution_count": 40,
   "id": "6585e207",
   "metadata": {},
   "outputs": [
    {
     "ename": "ModuleNotFoundError",
     "evalue": "No module named 'face_recognition'",
     "output_type": "error",
     "traceback": [
      "\u001b[1;31m---------------------------------------------------------------------------\u001b[0m",
      "\u001b[1;31mModuleNotFoundError\u001b[0m                       Traceback (most recent call last)",
      "\u001b[1;32m<ipython-input-40-ca17cc6b8bdb>\u001b[0m in \u001b[0;36m<module>\u001b[1;34m\u001b[0m\n\u001b[1;32m----> 1\u001b[1;33m \u001b[1;32mimport\u001b[0m \u001b[0mface_recognition\u001b[0m\u001b[1;33m\u001b[0m\u001b[1;33m\u001b[0m\u001b[0m\n\u001b[0m",
      "\u001b[1;31mModuleNotFoundError\u001b[0m: No module named 'face_recognition'"
     ]
    }
   ],
   "source": [
    "import face_recognition"
   ]
  },
  {
   "cell_type": "code",
   "execution_count": 41,
   "id": "39711fd6",
   "metadata": {},
   "outputs": [],
   "source": [
    "# cmake 설치\n",
    "# >> pip install cmake\n",
    "# cmake : http://cmake.org/download\n",
    "\n",
    "# dlib 설치\n",
    "# >> pip install dlib\n",
    "# dlib : http://dlib.net\n",
    "# visual studio C++ 오류 > visual studio 설치 : https://visualstudio.microsoft.com/ko/visual-cpp-build-tools/\n",
    "## 강제로 최신(19.22) dlib 설치 >> 이걸로 함;;\n",
    "## >> conda install -c conda-forge dlib=19.22"
   ]
  },
  {
   "cell_type": "code",
   "execution_count": 16,
   "id": "5d1ead39",
   "metadata": {},
   "outputs": [
    {
     "name": "stdout",
     "output_type": "stream",
     "text": [
      "Collecting imutils\n",
      "  Using cached imutils-0.5.4.tar.gz (17 kB)\n",
      "Building wheels for collected packages: imutils\n",
      "  Building wheel for imutils (setup.py): started\n",
      "  Building wheel for imutils (setup.py): finished with status 'done'\n",
      "  Created wheel for imutils: filename=imutils-0.5.4-py3-none-any.whl size=25860 sha256=b278e5c77e6f9867ddd9ba719f57f32916eb714246a177873b5fd220cac19d0b\n",
      "  Stored in directory: c:\\users\\cpb06gamen\\appdata\\local\\pip\\cache\\wheels\\59\\1b\\52\\0dea905f8278d5514dc4d0be5e251967f8681670cadd3dca89\n",
      "Successfully built imutils\n",
      "Installing collected packages: imutils\n",
      "Successfully installed imutils-0.5.4\n",
      "Note: you may need to restart the kernel to use updated packages.\n"
     ]
    }
   ],
   "source": [
    "#pip install imutils"
   ]
  },
  {
   "cell_type": "code",
   "execution_count": 9,
   "id": "8cc6c78e",
   "metadata": {},
   "outputs": [],
   "source": [
    "vfile=cv2.VideoCapture(0)\n",
    "fourcc = cv2.VideoWriter_fourcc(*'XVID')\n",
    "writer = cv2.VideoWriter('output.avi', fourcc, 30.0, (640,480)) # 30 -초당 프레임 수(1초에 30장의 이미지를 카메라가 연속적으로 가져옴)"
   ]
  },
  {
   "cell_type": "code",
   "execution_count": 20,
   "id": "80257895",
   "metadata": {},
   "outputs": [],
   "source": [
    "# 엔터 누르면 캡쳐되고 webcam_snap으로 새로운 jpg파일에 저장됨. 실시간 영상\n",
    "if vfile.isOpened():\n",
    "    while True:\n",
    "        vret, img = vfile.read()\n",
    "        if vret:\n",
    "            cv2.imshow('webcam', img)\n",
    "            if cv2.waitKey(1)!=-1:\n",
    "                cv2.imwrite('webcam_snap.jpg',img)\n",
    "                break\n",
    "        else:\n",
    "            print(\"프레임 정상적이지 않음\")\n",
    "            break\n",
    "else:\n",
    "    print(\"오류발생\")\n",
    "    \n",
    "vfile.release()\n",
    "cv2.destroyAllWindows()"
   ]
  },
  {
   "cell_type": "code",
   "execution_count": null,
   "id": "42349777",
   "metadata": {},
   "outputs": [],
   "source": [
    "vfile.release()\n",
    "cv2.destroyAllWindows()"
   ]
  },
  {
   "cell_type": "code",
   "execution_count": 22,
   "id": "0ded6fd1",
   "metadata": {},
   "outputs": [],
   "source": [
    "cap=cv2.VideoCapture(0)"
   ]
  },
  {
   "cell_type": "code",
   "execution_count": null,
   "id": "688faef7",
   "metadata": {},
   "outputs": [],
   "source": [
    "while(True):\n",
    "    ret,lmg_color = cap.read()\n",
    "    \n",
    "    if ret == False:\n",
    "        continue\n",
    "        \n",
    "        img_"
   ]
  },
  {
   "cell_type": "code",
   "execution_count": 23,
   "id": "5332c500",
   "metadata": {},
   "outputs": [],
   "source": [
    "fourcc = cv2.VideoWriter_fourcc(*'XVID')\n",
    "writer = cv2.VideoWriter('output.jpg', fourcc, 30.0, (640,480))"
   ]
  },
  {
   "cell_type": "code",
   "execution_count": 24,
   "id": "d7632ed0",
   "metadata": {},
   "outputs": [],
   "source": [
    "if vfile.isOpened():\n",
    "    while True:\n",
    "        vret, img = vfile.read()\n",
    "        if vret:\n",
    "            writer.write(img)\n",
    "            if cv2.waitKey(1)!=-1:\n",
    "                cv2.imwrite('webcam_snap.jpg',img)\n",
    "                break\n",
    "    \n",
    "vfile.release()\n",
    "cv2.destroyAllWindows()"
   ]
  },
  {
   "cell_type": "code",
   "execution_count": 3,
   "id": "749130b7",
   "metadata": {},
   "outputs": [],
   "source": [
    "# 사람이 인식될때만 캡쳐\n",
    "import cv2\n",
    "from PIL import ImageFont, ImageDraw, Image\n",
    "import numpy as np\n",
    "import os\n",
    "import datetime"
   ]
  },
  {
   "cell_type": "code",
   "execution_count": 43,
   "id": "575beb38",
   "metadata": {},
   "outputs": [
    {
     "data": {
      "text/plain": [
       "False"
      ]
     },
     "execution_count": 43,
     "metadata": {},
     "output_type": "execute_result"
    }
   ],
   "source": [
    "capture = cv2.VideoCapture(1)\n",
    "capture.set(cv2.CAP_PROP_FRAME_WIDTH, 640)\n",
    "capture.set(cv2.CAP_PROP_FRAME_HEIGHT, 480)"
   ]
  },
  {
   "cell_type": "code",
   "execution_count": 44,
   "id": "b8c1de8a",
   "metadata": {},
   "outputs": [],
   "source": [
    "is_record = False                           # 녹화상태는 처음엔 거짓으로 설정\n",
    "on_record = False\n",
    "cnt_record = 0      # 영상 녹화 시간 관련 변수"
   ]
  },
  {
   "cell_type": "code",
   "execution_count": 45,
   "id": "3f88854c",
   "metadata": {},
   "outputs": [],
   "source": [
    "fourcc = cv2.VideoWriter_fourcc(*'XVID')    # 영상을 기록할 코덱 설정"
   ]
  },
  {
   "cell_type": "code",
   "execution_count": 46,
   "id": "2b327df1",
   "metadata": {},
   "outputs": [],
   "source": [
    "face_cascade = cv2.CascadeClassifier('haarcascade/haarcascade_frontalface_default.xml')\n",
    "eye_cascade = cv2.CascadeClassifier('haarcascade/haarcascade_eye.xml')"
   ]
  },
  {
   "cell_type": "code",
   "execution_count": 54,
   "id": "4dc6fbd6",
   "metadata": {},
   "outputs": [],
   "source": [
    "def detectAndDisplay(frame):\n",
    "    gray = cv2.cvtColor(frame, cv2.COLOR_BGR2GRAY)\n",
    "    gray = cv2.equalizeHist(gray)\n",
    "    faces = face_cascade.detectMultiScale(gray)"
   ]
  },
  {
   "cell_type": "code",
   "execution_count": 57,
   "id": "36db2a4a",
   "metadata": {},
   "outputs": [
    {
     "ename": "KeyboardInterrupt",
     "evalue": "",
     "output_type": "error",
     "traceback": [
      "\u001b[1;31m---------------------------------------------------------------------------\u001b[0m",
      "\u001b[1;31mKeyboardInterrupt\u001b[0m                         Traceback (most recent call last)",
      "\u001b[1;32m<ipython-input-57-c761fd234f4f>\u001b[0m in \u001b[0;36m<module>\u001b[1;34m\u001b[0m\n\u001b[0;32m      1\u001b[0m \u001b[1;32mif\u001b[0m \u001b[0mvfile\u001b[0m\u001b[1;33m.\u001b[0m\u001b[0misOpened\u001b[0m\u001b[1;33m(\u001b[0m\u001b[1;33m)\u001b[0m\u001b[1;33m:\u001b[0m\u001b[1;33m\u001b[0m\u001b[1;33m\u001b[0m\u001b[0m\n\u001b[0;32m      2\u001b[0m     \u001b[1;32mwhile\u001b[0m \u001b[1;32mTrue\u001b[0m\u001b[1;33m:\u001b[0m\u001b[1;33m\u001b[0m\u001b[1;33m\u001b[0m\u001b[0m\n\u001b[1;32m----> 3\u001b[1;33m         \u001b[0mret\u001b[0m\u001b[1;33m,\u001b[0m \u001b[0mframe\u001b[0m \u001b[1;33m=\u001b[0m \u001b[0mcapture\u001b[0m\u001b[1;33m.\u001b[0m\u001b[0mread\u001b[0m\u001b[1;33m(\u001b[0m\u001b[1;33m)\u001b[0m     \u001b[1;31m# 카메라로부터 현재 영상을 받아 frame에 저장, 잘 받았다면 ret가 참\u001b[0m\u001b[1;33m\u001b[0m\u001b[1;33m\u001b[0m\u001b[0m\n\u001b[0m\u001b[0;32m      4\u001b[0m         \u001b[1;32mdef\u001b[0m \u001b[0mdetectAndDisplay\u001b[0m\u001b[1;33m(\u001b[0m\u001b[0mframe\u001b[0m\u001b[1;33m)\u001b[0m\u001b[1;33m:\u001b[0m\u001b[1;33m\u001b[0m\u001b[1;33m\u001b[0m\u001b[0m\n\u001b[0;32m      5\u001b[0m             \u001b[0mgray\u001b[0m \u001b[1;33m=\u001b[0m \u001b[0mcv2\u001b[0m\u001b[1;33m.\u001b[0m\u001b[0mcvtColor\u001b[0m\u001b[1;33m(\u001b[0m\u001b[0mframe\u001b[0m\u001b[1;33m,\u001b[0m \u001b[0mcv2\u001b[0m\u001b[1;33m.\u001b[0m\u001b[0mCOLOR_BGR2GRAY\u001b[0m\u001b[1;33m)\u001b[0m\u001b[1;33m\u001b[0m\u001b[1;33m\u001b[0m\u001b[0m\n",
      "\u001b[1;31mKeyboardInterrupt\u001b[0m: "
     ]
    }
   ],
   "source": [
    "if vfile.isOpened():\n",
    "    while True:    \n",
    "        ret, frame = capture.read()     # 카메라로부터 현재 영상을 받아 frame에 저장, 잘 받았다면 ret가 참\n",
    "        def detectAndDisplay(frame):\n",
    "            gray = cv2.cvtColor(frame, cv2.COLOR_BGR2GRAY)\n",
    "            gray = cv2.equalizeHist(gray)\n",
    "            faces = face_cascade.detectMultiScale(gray)\n",
    "    # scaleFactor를 1에 가깝게 해주면 정확도가 상승하나 시간이 오래걸림\n",
    "    # minNeighbors를 높여주면 검출률이 상승하나 오탐지율도 상승\n",
    "            faces = face_cascade.detectMultiScale(gray, scaleFactor= 1.5, minNeighbors=3, minSize=(20,20))\n",
    "    # eyes = eye_cascade.detectMultiScale(gray, scaleFactor= 1.5, minNeighbors=3, minSize=(10,10))\n",
    "    # print(faces)"
   ]
  },
  {
   "cell_type": "code",
   "execution_count": 59,
   "id": "eeb875a8",
   "metadata": {},
   "outputs": [
    {
     "ename": "error",
     "evalue": "OpenCV(4.5.3) C:\\Users\\runneradmin\\AppData\\Local\\Temp\\pip-req-build-q3d_8t8e\\opencv\\modules\\imgproc\\src\\color.cpp:182: error: (-215:Assertion failed) !_src.empty() in function 'cv::cvtColor'\n",
     "output_type": "error",
     "traceback": [
      "\u001b[1;31m---------------------------------------------------------------------------\u001b[0m",
      "\u001b[1;31merror\u001b[0m                                     Traceback (most recent call last)",
      "\u001b[1;32m<ipython-input-59-05fa88dffda6>\u001b[0m in \u001b[0;36m<module>\u001b[1;34m\u001b[0m\n\u001b[0;32m      2\u001b[0m     \u001b[1;32mwhile\u001b[0m \u001b[1;32mTrue\u001b[0m\u001b[1;33m:\u001b[0m\u001b[1;33m\u001b[0m\u001b[1;33m\u001b[0m\u001b[0m\n\u001b[0;32m      3\u001b[0m         \u001b[0mret\u001b[0m\u001b[1;33m,\u001b[0m \u001b[0mframe\u001b[0m \u001b[1;33m=\u001b[0m \u001b[0mcapture\u001b[0m\u001b[1;33m.\u001b[0m\u001b[0mread\u001b[0m\u001b[1;33m(\u001b[0m\u001b[1;33m)\u001b[0m     \u001b[1;31m# 카메라로부터 현재 영상을 받아 frame에 저장, 잘 받았다면 ret가 참\u001b[0m\u001b[1;33m\u001b[0m\u001b[1;33m\u001b[0m\u001b[0m\n\u001b[1;32m----> 4\u001b[1;33m         \u001b[0mgray\u001b[0m \u001b[1;33m=\u001b[0m \u001b[0mcv2\u001b[0m\u001b[1;33m.\u001b[0m\u001b[0mcvtColor\u001b[0m\u001b[1;33m(\u001b[0m\u001b[0mframe\u001b[0m\u001b[1;33m,\u001b[0m \u001b[0mcv2\u001b[0m\u001b[1;33m.\u001b[0m\u001b[0mCOLOR_BGR2GRAY\u001b[0m\u001b[1;33m)\u001b[0m  \u001b[1;31m# 영상을 흑백으로 바꿔줌\u001b[0m\u001b[1;33m\u001b[0m\u001b[1;33m\u001b[0m\u001b[0m\n\u001b[0m\u001b[0;32m      5\u001b[0m         \u001b[1;31m#gray = cv2.equalizeHist(gray)\u001b[0m\u001b[1;33m\u001b[0m\u001b[1;33m\u001b[0m\u001b[1;33m\u001b[0m\u001b[0m\n\u001b[0;32m      6\u001b[0m     \u001b[1;31m# scaleFactor를 1에 가깝게 해주면 정확도가 상승하나 시간이 오래걸림\u001b[0m\u001b[1;33m\u001b[0m\u001b[1;33m\u001b[0m\u001b[1;33m\u001b[0m\u001b[0m\n",
      "\u001b[1;31merror\u001b[0m: OpenCV(4.5.3) C:\\Users\\runneradmin\\AppData\\Local\\Temp\\pip-req-build-q3d_8t8e\\opencv\\modules\\imgproc\\src\\color.cpp:182: error: (-215:Assertion failed) !_src.empty() in function 'cv::cvtColor'\n"
     ]
    }
   ],
   "source": [
    "if vfile.isOpened():\n",
    "    while True:    \n",
    "        ret, frame = capture.read()     # 카메라로부터 현재 영상을 받아 frame에 저장, 잘 받았다면 ret가 참\n",
    "        gray = cv2.cvtColor(frame, cv2.COLOR_BGR2GRAY)  # 영상을 흑백으로 바꿔줌\n",
    "        #gray = cv2.equalizeHist(gray)\n",
    "    # scaleFactor를 1에 가깝게 해주면 정확도가 상승하나 시간이 오래걸림\n",
    "    # minNeighbors를 높여주면 검출률이 상승하나 오탐지율도 상승\n",
    "        faces = face_cascade.detectMultiScale(gray, scaleFactor= 1.5, minNeighbors=3, minSize=(20,20))\n",
    "    # eyes = eye_cascade.detectMultiScale(gray, scaleFactor= 1.5, minNeighbors=3, minSize=(10,10))\n",
    "    # print(faces)\n",
    "    \n",
    "        if len(faces) :\n",
    "            for  x, y, w, h in faces :\n",
    "                cv2.rectangle(frame, (x, y), (x + w, y + h), (255,255,255), 2, cv2.LINE_4)\n",
    "    #if len(eyes) :\n",
    "        #for  x, y, w, h in eyes :\n",
    "            #cv2.rectangle(frame, (x, y), (x + w, y + h), (0,0,255), 2, cv2.LINE_4)\n",
    "        cv2.imshow(\"original\", frame)   # frame(카메라 영상)을 original 이라는 창에 띄워줌 \n",
    "        if cv2.waitKey(1) == ord('q'):  # 키보드의 q 를 누르면 무한루프가 멈춤\n",
    "                break\n",
    "\n",
    "capture.release()                   # 캡처 객체를 없애줌\n",
    "cv2.destroyAllWindows()             # 모든 영상 창을 닫아줌"
   ]
  },
  {
   "cell_type": "code",
   "execution_count": 62,
   "id": "5cc843e1",
   "metadata": {},
   "outputs": [
    {
     "ename": "KeyboardInterrupt",
     "evalue": "",
     "output_type": "error",
     "traceback": [
      "\u001b[1;31m---------------------------------------------------------------------------\u001b[0m",
      "\u001b[1;31mKeyboardInterrupt\u001b[0m                         Traceback (most recent call last)",
      "\u001b[1;32m<ipython-input-62-bad720604a6f>\u001b[0m in \u001b[0;36m<module>\u001b[1;34m\u001b[0m\n\u001b[0;32m      2\u001b[0m \u001b[1;32mimport\u001b[0m \u001b[0mcv2\u001b[0m \u001b[1;32mas\u001b[0m \u001b[0mcv\u001b[0m\u001b[1;33m\u001b[0m\u001b[1;33m\u001b[0m\u001b[0m\n\u001b[0;32m      3\u001b[0m \u001b[1;32mimport\u001b[0m \u001b[0mtime\u001b[0m\u001b[1;33m\u001b[0m\u001b[1;33m\u001b[0m\u001b[0m\n\u001b[1;32m----> 4\u001b[1;33m \u001b[0mcamera\u001b[0m \u001b[1;33m=\u001b[0m \u001b[0mcv\u001b[0m\u001b[1;33m.\u001b[0m\u001b[0mVideoCapture\u001b[0m\u001b[1;33m(\u001b[0m\u001b[1;36m0\u001b[0m\u001b[1;33m)\u001b[0m\u001b[1;33m\u001b[0m\u001b[1;33m\u001b[0m\u001b[0m\n\u001b[0m\u001b[0;32m      5\u001b[0m \u001b[0mname\u001b[0m \u001b[1;33m=\u001b[0m \u001b[1;36m1\u001b[0m\u001b[1;33m\u001b[0m\u001b[1;33m\u001b[0m\u001b[0m\n\u001b[0;32m      6\u001b[0m \u001b[1;32mwhile\u001b[0m\u001b[1;33m(\u001b[0m\u001b[1;32mTrue\u001b[0m\u001b[1;33m)\u001b[0m\u001b[1;33m:\u001b[0m\u001b[1;33m\u001b[0m\u001b[1;33m\u001b[0m\u001b[0m\n",
      "\u001b[1;31mKeyboardInterrupt\u001b[0m: "
     ]
    }
   ],
   "source": [
    "# 3초마다 이미지 캡처\n",
    "import cv2 as cv\n",
    "import time\n",
    "camera = cv.VideoCapture(0)\n",
    "name = 1\n",
    "while(True):\n",
    "    ret, image = camera.read()\n",
    "cv.imwrite('webcam'+str(name)+'.jpg', image)\n",
    "time.sleep(2)\n",
    "name+=1\n",
    "camera.release()\n",
    "cv.destroyAllWindows()"
   ]
  },
  {
   "cell_type": "code",
   "execution_count": 68,
   "id": "67787a7a",
   "metadata": {},
   "outputs": [
    {
     "ename": "IndentationError",
     "evalue": "expected an indented block (<ipython-input-68-e22bb0c7fa0d>, line 6)",
     "output_type": "error",
     "traceback": [
      "\u001b[1;36m  File \u001b[1;32m\"<ipython-input-68-e22bb0c7fa0d>\"\u001b[1;36m, line \u001b[1;32m6\u001b[0m\n\u001b[1;33m    ret, image = camera.read()\u001b[0m\n\u001b[1;37m    ^\u001b[0m\n\u001b[1;31mIndentationError\u001b[0m\u001b[1;31m:\u001b[0m expected an indented block\n"
     ]
    }
   ],
   "source": [
    "import cv2 as cv\n",
    "import time\n",
    "camera = cv.VideoCapture(0)\n",
    "name = 1\n",
    "while(True):\n",
    "ret, image = camera.read()\n",
    "cv.imwrite('webcam'+str(name)+'.jpg', image)\n",
    "time.sleep(0.2)\n",
    "name+=1\n",
    "camera.release()\n",
    "cv.destroyAllWindows()"
   ]
  },
  {
   "cell_type": "code",
   "execution_count": 124,
   "id": "440d9924",
   "metadata": {},
   "outputs": [
    {
     "ename": "KeyboardInterrupt",
     "evalue": "",
     "output_type": "error",
     "traceback": [
      "\u001b[1;31m---------------------------------------------------------------------------\u001b[0m",
      "\u001b[1;31mKeyboardInterrupt\u001b[0m                         Traceback (most recent call last)",
      "\u001b[1;32m<ipython-input-124-a22f8fc3022c>\u001b[0m in \u001b[0;36m<module>\u001b[1;34m\u001b[0m\n\u001b[0;32m     13\u001b[0m     \u001b[0mgray\u001b[0m \u001b[1;33m=\u001b[0m \u001b[0mcv2\u001b[0m\u001b[1;33m.\u001b[0m\u001b[0mcvtColor\u001b[0m\u001b[1;33m(\u001b[0m\u001b[0mframe\u001b[0m\u001b[1;33m,\u001b[0m \u001b[0mcv2\u001b[0m\u001b[1;33m.\u001b[0m\u001b[0mCOLOR_BGR2GRAY\u001b[0m\u001b[1;33m)\u001b[0m\u001b[1;33m\u001b[0m\u001b[1;33m\u001b[0m\u001b[0m\n\u001b[0;32m     14\u001b[0m     \u001b[0mcv2\u001b[0m\u001b[1;33m.\u001b[0m\u001b[0mimshow\u001b[0m\u001b[1;33m(\u001b[0m\u001b[1;34m'frame'\u001b[0m\u001b[1;33m,\u001b[0m \u001b[0mgray\u001b[0m\u001b[1;33m)\u001b[0m\u001b[1;33m\u001b[0m\u001b[1;33m\u001b[0m\u001b[0m\n\u001b[1;32m---> 15\u001b[1;33m     \u001b[1;32mif\u001b[0m \u001b[0mcv2\u001b[0m\u001b[1;33m.\u001b[0m\u001b[0mwaitKey\u001b[0m\u001b[1;33m(\u001b[0m\u001b[1;36m5000\u001b[0m\u001b[1;33m)\u001b[0m\u001b[1;33m:\u001b[0m\u001b[1;33m\u001b[0m\u001b[1;33m\u001b[0m\u001b[0m\n\u001b[0m\u001b[0;32m     16\u001b[0m         \u001b[1;32mcontinue\u001b[0m\u001b[1;33m\u001b[0m\u001b[1;33m\u001b[0m\u001b[0m\n\u001b[0;32m     17\u001b[0m     \u001b[1;32mif\u001b[0m \u001b[0mtime\u001b[0m\u001b[1;33m.\u001b[0m\u001b[0mtime\u001b[0m\u001b[1;33m(\u001b[0m\u001b[1;33m)\u001b[0m \u001b[1;33m-\u001b[0m \u001b[0mstart_time\u001b[0m \u001b[1;33m>=\u001b[0m \u001b[1;36m0.05\u001b[0m\u001b[1;33m:\u001b[0m\u001b[1;33m\u001b[0m\u001b[1;33m\u001b[0m\u001b[0m\n",
      "\u001b[1;31mKeyboardInterrupt\u001b[0m: "
     ]
    }
   ],
   "source": [
    "# 0.2초 프레임마다 캡처되어 지정된 폴더에 저장 (정면)\n",
    "import cv2\n",
    "import time\n",
    "capture = cv2.VideoCapture(0)\n",
    "capture.set(3, 640)\n",
    "capture.set(4, 480)\n",
    "img_counter = 0\n",
    "frame_set = []\n",
    "start_time = time.time()\n",
    "path = 'C:/Users/CPB06GameN/face_recognition/front'\n",
    "count: int = 0\n",
    "while True:\n",
    "    ret, frame = capture.read()\n",
    "    gray = cv2.cvtColor(frame, cv2.COLOR_BGR2GRAY)\n",
    "    cv2.imshow('frame', gray)\n",
    "    #if cv2.waitKey(1) & 0xFF == ord('q'):\n",
    "        #break\n",
    "    if count > 5:\n",
    "        break;\n",
    "    if time.time() - start_time >= 0.05:\n",
    "            img_name = \"opencv_frame_{}.png\".format(img_counter)\n",
    "            cv2.imwrite(os.path.expanduser(os.path.join(path ,img_name)), frame)\n",
    "            \n",
    "            print(\"{} written!\".format(img_counter))\n",
    "        #start_time = time.time()\n",
    "    img_counter += 1\n",
    "camera.release()\n",
    "cv.destroyAllWindows()"
   ]
  },
  {
   "cell_type": "code",
   "execution_count": 97,
   "id": "72086f01",
   "metadata": {},
   "outputs": [],
   "source": [
    "# 0.2초 프레임마다 캡처되어 저장 (좌측)\n",
    "import cv2\n",
    "import time\n",
    "capture = cv2.VideoCapture(0)\n",
    "capture.set(3, 640)\n",
    "capture.set(4, 480)\n",
    "img_counter = 0\n",
    "frame_set = []\n",
    "start_time = time.time()\n",
    "path = 'C:/Users/CPB06GameN/face_recognition/left'\n",
    "while True:\n",
    "    ret, frame = capture.read()\n",
    "    gray = cv2.cvtColor(frame, cv2.COLOR_BGR2GRAY)\n",
    "    cv2.imshow('frame', gray)\n",
    "    if cv2.waitKey(1) & 0xFF == ord('q'):\n",
    "        break\n",
    "    if time.time() - start_time >= 0.2:\n",
    "        img_name = \"opencv_frame_{}.png\".format(img_counter)\n",
    "        cv2.imwrite(os.path.expanduser(os.path.join(path ,img_name)), frame)\n",
    "        print(\"{} written!\".format(img_counter))\n",
    "        #start_time = time.time()\n",
    "    img_counter += 1\n",
    "camera.release()\n",
    "cv.destroyAllWindows()"
   ]
  },
  {
   "cell_type": "code",
   "execution_count": null,
   "id": "0cc4ee7e",
   "metadata": {},
   "outputs": [],
   "source": [
    "# 0.2초 프레임마다 캡처되어 저장 (우측)\n",
    "import cv2\n",
    "import time\n",
    "capture = cv2.VideoCapture(0)\n",
    "capture.set(3, 640)\n",
    "capture.set(4, 480)\n",
    "img_counter = 0\n",
    "frame_set = []\n",
    "start_time = time.time()\n",
    "path = 'C:/Users/CPB06GameN/face_recognition/right'\n",
    "while True:\n",
    "    ret, frame = capture.read()\n",
    "    gray = cv2.cvtColor(frame, cv2.COLOR_BGR2GRAY)\n",
    "    cv2.imshow('frame', gray)\n",
    "    if cv2.waitKey(1) & 0xFF == ord('q'):\n",
    "        break\n",
    "    if time.time() - start_time >= 0.2:\n",
    "        img_name = \"opencv_frame_{}.png\".format(img_counter)\n",
    "        cv2.imwrite(os.path.expanduser(os.path.join(path ,img_name)), frame)\n",
    "        print(\"{} written!\".format(img_counter))\n",
    "        #start_time = time.time()\n",
    "    img_counter += 1\n",
    "camera.release()\n",
    "cv.destroyAllWindows()"
   ]
  },
  {
   "cell_type": "code",
   "execution_count": null,
   "id": "8a414449",
   "metadata": {},
   "outputs": [],
   "source": [
    "# 사람이 인식되면 3초마다 캡쳐 시작 "
   ]
  },
  {
   "cell_type": "code",
   "execution_count": null,
   "id": "f1f8e210",
   "metadata": {},
   "outputs": [],
   "source": [
    "# 사람이 인식되면 3초마다 캡쳐 시작 -> 프레임 단위로 쪼개서 데이터 많이 만들기(3초마다 그거를 시간을 줄이면 캡쳐되지않나)"
   ]
  },
  {
   "cell_type": "code",
   "execution_count": null,
   "id": "1a3edff0",
   "metadata": {},
   "outputs": [],
   "source": [
    "face_cascade = cv2.CascadeClassifier('haarcascades/haarcascade_frontalface_default.xml')\n",
    "eye_cascade = cv2.CascadeClassifier('haarcascades/haarcascade_eye.xml')"
   ]
  },
  {
   "cell_type": "code",
   "execution_count": 16,
   "id": "fd6b2c77",
   "metadata": {
    "scrolled": false
   },
   "outputs": [
    {
     "name": "stdout",
     "output_type": "stream",
     "text": [
      "21 written!\n",
      "22 written!\n",
      "23 written!\n",
      "24 written!\n",
      "25 written!\n",
      "26 written!\n",
      "27 written!\n",
      "28 written!\n",
      "29 written!\n",
      "30 written!\n",
      "31 written!\n",
      "32 written!\n",
      "33 written!\n",
      "34 written!\n",
      "35 written!\n",
      "36 written!\n",
      "37 written!\n",
      "38 written!\n",
      "39 written!\n",
      "40 written!\n",
      "41 written!\n",
      "42 written!\n",
      "43 written!\n",
      "44 written!\n",
      "45 written!\n",
      "46 written!\n",
      "47 written!\n",
      "48 written!\n",
      "49 written!\n",
      "50 written!\n",
      "51 written!\n",
      "52 written!\n",
      "53 written!\n",
      "54 written!\n",
      "55 written!\n",
      "56 written!\n",
      "57 written!\n",
      "58 written!\n",
      "59 written!\n",
      "60 written!\n",
      "61 written!\n",
      "62 written!\n",
      "63 written!\n",
      "64 written!\n",
      "65 written!\n",
      "66 written!\n",
      "67 written!\n",
      "68 written!\n",
      "69 written!\n",
      "70 written!\n",
      "71 written!\n",
      "72 written!\n",
      "73 written!\n",
      "74 written!\n",
      "75 written!\n",
      "76 written!\n",
      "77 written!\n",
      "78 written!\n",
      "79 written!\n",
      "loop\n",
      "30 written!\n",
      "31 written!\n",
      "32 written!\n",
      "33 written!\n",
      "34 written!\n",
      "35 written!\n",
      "36 written!\n",
      "37 written!\n",
      "38 written!\n",
      "39 written!\n",
      "40 written!\n",
      "41 written!\n",
      "42 written!\n",
      "43 written!\n",
      "44 written!\n",
      "45 written!\n",
      "46 written!\n",
      "47 written!\n",
      "48 written!\n",
      "49 written!\n",
      "50 written!\n",
      "51 written!\n",
      "52 written!\n",
      "53 written!\n",
      "54 written!\n",
      "55 written!\n",
      "56 written!\n",
      "57 written!\n",
      "58 written!\n",
      "59 written!\n",
      "60 written!\n",
      "61 written!\n",
      "62 written!\n",
      "63 written!\n",
      "64 written!\n",
      "65 written!\n",
      "66 written!\n",
      "67 written!\n",
      "68 written!\n",
      "69 written!\n",
      "70 written!\n",
      "71 written!\n",
      "72 written!\n",
      "73 written!\n",
      "74 written!\n",
      "75 written!\n",
      "76 written!\n",
      "77 written!\n",
      "78 written!\n",
      "79 written!\n",
      "80 written!\n",
      "81 written!\n",
      "82 written!\n",
      "83 written!\n",
      "84 written!\n",
      "85 written!\n",
      "86 written!\n",
      "87 written!\n",
      "88 written!\n",
      "89 written!\n",
      "loop\n",
      "30 written!\n",
      "31 written!\n",
      "32 written!\n",
      "33 written!\n",
      "34 written!\n",
      "35 written!\n",
      "36 written!\n",
      "37 written!\n",
      "38 written!\n",
      "39 written!\n",
      "40 written!\n",
      "41 written!\n",
      "42 written!\n",
      "43 written!\n",
      "44 written!\n",
      "45 written!\n",
      "46 written!\n",
      "47 written!\n",
      "48 written!\n",
      "49 written!\n",
      "50 written!\n",
      "51 written!\n",
      "52 written!\n",
      "53 written!\n",
      "54 written!\n",
      "55 written!\n",
      "56 written!\n",
      "57 written!\n",
      "58 written!\n",
      "59 written!\n",
      "60 written!\n",
      "61 written!\n",
      "62 written!\n",
      "63 written!\n",
      "64 written!\n",
      "65 written!\n",
      "66 written!\n",
      "67 written!\n",
      "68 written!\n",
      "69 written!\n",
      "70 written!\n",
      "71 written!\n",
      "72 written!\n",
      "73 written!\n",
      "74 written!\n",
      "75 written!\n",
      "76 written!\n",
      "77 written!\n",
      "78 written!\n",
      "79 written!\n",
      "80 written!\n",
      "81 written!\n",
      "82 written!\n",
      "83 written!\n",
      "84 written!\n",
      "85 written!\n",
      "86 written!\n",
      "87 written!\n",
      "88 written!\n",
      "89 written!\n",
      "loop\n"
     ]
    }
   ],
   "source": [
    "import cv2 as cv\n",
    "import time\n",
    "import numpy as np\n",
    "import os\n",
    "\n",
    "capture = cv2.VideoCapture(0)\n",
    "capture.set(3, 640)\n",
    "capture.set(4, 480)\n",
    "img_counter = 0\n",
    "frame_set = []\n",
    "start_time = time.time()\n",
    "start_time_int = int(time.time())\n",
    "path = 'C:/Users/CPB06GameN/face_recognition/minz'  # 특정 폴더에 저장\n",
    "count: int = 0\n",
    "flag=1\n",
    "\n",
    "for i in range(3):\n",
    "    img_counter = 0            \n",
    "    frame_set = []\n",
    "    start_time = time.time()\n",
    "    start_time_int = int(time.time())\n",
    "    flag=1\n",
    "    while flag==1:\n",
    "        ret, frame = capture.read()\n",
    "        gray = cv2.cvtColor(frame, cv2.COLOR_BGR2GRAY)\n",
    "        faces = face_cascade.detectMultiScale(gray, scaleFactor= 1.5, minNeighbors=3, minSize=(20,20))\n",
    "        eyes = eye_cascade.detectMultiScale(gray, scaleFactor= 1.5, minNeighbors=3, minSize=(10,10))\n",
    "        print(faces)\n",
    "\n",
    "        # 얼굴 영역을 영상에 사각형으로 표시\n",
    "        if len(faces) :\n",
    "            for  x, y, w, h in faces :\n",
    "                cv2.rectangle(frame, (x, y), (x + w, y + h), (255,255,255), 2, cv2.LINE_4)\n",
    "        cv2.imshow('frame', gray)\n",
    "        # 시작 2초 뒤 종료\n",
    "        if int(time.time()) > start_time_int + 2:\n",
    "            flag=0\n",
    "\n",
    "        if time.time() - start_time >= 1:    \n",
    "            img_name = \"webcam_{}.jpg\".format(img_counter)\n",
    "            cv2.imwrite(os.path.expanduser(os.path.join(path, img_name)), frame)\n",
    "            print(\"{} written!\".format(img_counter))\n",
    "        img_counter += 1\n",
    "    print(\"loop\")\n",
    "        \n",
    "\n",
    "        \n",
    "capture.release()\n",
    "cv.destroyAllWindows()"
   ]
  },
  {
   "cell_type": "code",
   "execution_count": null,
   "id": "45a12c46",
   "metadata": {},
   "outputs": [],
   "source": []
  }
 ],
 "metadata": {
  "kernelspec": {
   "display_name": "Python 3",
   "language": "python",
   "name": "python3"
  },
  "language_info": {
   "codemirror_mode": {
    "name": "ipython",
    "version": 3
   },
   "file_extension": ".py",
   "mimetype": "text/x-python",
   "name": "python",
   "nbconvert_exporter": "python",
   "pygments_lexer": "ipython3",
   "version": "3.8.8"
  }
 },
 "nbformat": 4,
 "nbformat_minor": 5
}
