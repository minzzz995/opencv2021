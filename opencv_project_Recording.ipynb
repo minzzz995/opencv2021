{
 "cells": [
  {
   "cell_type": "code",
   "execution_count": 1,
   "id": "13a1e166",
   "metadata": {},
   "outputs": [],
   "source": [
    "#   opencv python 코딩\n",
    "#   움직임이 있을때만 녹화\n",
    "\n",
    "import cv2\n",
    "import datetime\n",
    "from PIL import ImageFont, ImageDraw, Image\n",
    "import numpy as np\n",
    "import os"
   ]
  },
  {
   "cell_type": "code",
   "execution_count": 2,
   "id": "a4fd3603",
   "metadata": {},
   "outputs": [],
   "source": [
    "def get_diff_img(frame_a, frame_b, frame_c, threshold):\n",
    "    # 3 프레임의 영상을 모두 흑백으로 전환\n",
    "    frame_a_gray = cv2.cvtColor(frame_a, cv2.COLOR_BGR2GRAY)\n",
    "    frame_b_gray = cv2.cvtColor(frame_b, cv2.COLOR_BGR2GRAY)\n",
    "    frame_c_gray = cv2.cvtColor(frame_c, cv2.COLOR_BGR2GRAY)\n",
    "\n",
    "    # 1,2 프레임, 2,3 프레임 영상들의 차를 구함\n",
    "    diff_ab = cv2.absdiff(frame_a_gray, frame_b_gray)\n",
    "    diff_bc = cv2.absdiff(frame_b_gray, frame_c_gray)\n",
    "\n",
    "    # 영상들의 차가 threshold 이상이면 값을 255(백색)으로 만들어줌\n",
    "    ret, diff_ab_t = cv2.threshold(diff_ab, threshold, 255, cv2.THRESH_BINARY)\n",
    "    ret, diff_bc_t = cv2.threshold(diff_bc, threshold, 255, cv2.THRESH_BINARY)\n",
    "\n",
    "    # 두 영상 차의 공통된 부분을 1로 만들어줌\n",
    "    diff = cv2.bitwise_and(diff_ab_t, diff_bc_t)\n",
    "    # 영상에서 1이 된 부분을 적당히 확장해줌(morpholgy)\n",
    "    k = cv2.getStructuringElement(cv2.MORPH_CROSS, (3, 3))\n",
    "    diff = cv2.morphologyEx(diff, cv2.MORPH_OPEN, k)\n",
    "\n",
    "    # 영상에서 1인 부분의 갯수를 셈\n",
    "    diff_cnt = cv2.countNonZero(diff)\n",
    "    return diff, diff_cnt  "
   ]
  },
  {
   "cell_type": "code",
   "execution_count": 4,
   "id": "3582632f",
   "metadata": {},
   "outputs": [],
   "source": [
    "# 카메라 영상을 받아올 객체 선언 및 설정(영상 소스, 해상도 설정)\n",
    "capture = cv2.VideoCapture(1)\n",
    "capture.set(cv2.CAP_PROP_FRAME_WIDTH, 640)\n",
    "capture.set(cv2.CAP_PROP_FRAME_HEIGHT, 480)\n",
    "\n",
    "fourcc = cv2.VideoWriter_fourcc(*'XVID')    # 영상을 기록할 코덱 설정\n",
    "font = ImageFont.truetype('fonts/bahnschrift.ttf', 20) # 글꼴파일을 불러옴\n",
    "is_record = False                           # 녹화상태는 처음엔 거짓으로 설정\n",
    "on_record = False\n",
    "\n",
    "threshold = 40      # 영상 차이에 사용할 threshold 설정\n",
    "diff_max = 10       # 영상 차이 픽셀의 개수(이것 이상이면 움직임이 있다고 결정)\n",
    "cnt_record = 0      # 영상 녹화 시간 관련 변수\n",
    "max_cnt_record = 5  # 최소 촬영시간"
   ]
  },
  {
   "cell_type": "code",
   "execution_count": 5,
   "id": "66c695ca",
   "metadata": {},
   "outputs": [
    {
     "ename": "error",
     "evalue": "OpenCV(4.5.3) C:\\Users\\runneradmin\\AppData\\Local\\Temp\\pip-req-build-q3d_8t8e\\opencv\\modules\\imgproc\\src\\color.cpp:182: error: (-215:Assertion failed) !_src.empty() in function 'cv::cvtColor'\n",
     "output_type": "error",
     "traceback": [
      "\u001b[1;31m---------------------------------------------------------------------------\u001b[0m",
      "\u001b[1;31merror\u001b[0m                                     Traceback (most recent call last)",
      "\u001b[1;32m<ipython-input-5-4949c1aa751d>\u001b[0m in \u001b[0;36m<module>\u001b[1;34m\u001b[0m\n\u001b[0;32m     11\u001b[0m     \u001b[1;31m# 현재 영상을 입력받아 움직임 감지\u001b[0m\u001b[1;33m\u001b[0m\u001b[1;33m\u001b[0m\u001b[1;33m\u001b[0m\u001b[0m\n\u001b[0;32m     12\u001b[0m     \u001b[0mret\u001b[0m\u001b[1;33m,\u001b[0m \u001b[0mframe_c\u001b[0m \u001b[1;33m=\u001b[0m \u001b[0mcapture\u001b[0m\u001b[1;33m.\u001b[0m\u001b[0mread\u001b[0m\u001b[1;33m(\u001b[0m\u001b[1;33m)\u001b[0m\u001b[1;33m\u001b[0m\u001b[1;33m\u001b[0m\u001b[0m\n\u001b[1;32m---> 13\u001b[1;33m     \u001b[0mdiff\u001b[0m\u001b[1;33m,\u001b[0m \u001b[0mdiff_cnt\u001b[0m \u001b[1;33m=\u001b[0m \u001b[0mget_diff_img\u001b[0m\u001b[1;33m(\u001b[0m\u001b[0mframe_a\u001b[0m\u001b[1;33m=\u001b[0m\u001b[0mframe_a\u001b[0m\u001b[1;33m,\u001b[0m \u001b[0mframe_b\u001b[0m\u001b[1;33m=\u001b[0m\u001b[0mframe_b\u001b[0m\u001b[1;33m,\u001b[0m \u001b[0mframe_c\u001b[0m\u001b[1;33m=\u001b[0m\u001b[0mframe_c\u001b[0m\u001b[1;33m,\u001b[0m \u001b[0mthreshold\u001b[0m\u001b[1;33m=\u001b[0m\u001b[0mthreshold\u001b[0m\u001b[1;33m)\u001b[0m\u001b[1;33m\u001b[0m\u001b[1;33m\u001b[0m\u001b[0m\n\u001b[0m\u001b[0;32m     14\u001b[0m \u001b[1;33m\u001b[0m\u001b[0m\n\u001b[0;32m     15\u001b[0m     \u001b[1;31m# 움직임이 일정 이상이면\u001b[0m\u001b[1;33m\u001b[0m\u001b[1;33m\u001b[0m\u001b[1;33m\u001b[0m\u001b[0m\n",
      "\u001b[1;32m<ipython-input-2-d3d460e124a5>\u001b[0m in \u001b[0;36mget_diff_img\u001b[1;34m(frame_a, frame_b, frame_c, threshold)\u001b[0m\n\u001b[0;32m      1\u001b[0m \u001b[1;32mdef\u001b[0m \u001b[0mget_diff_img\u001b[0m\u001b[1;33m(\u001b[0m\u001b[0mframe_a\u001b[0m\u001b[1;33m,\u001b[0m \u001b[0mframe_b\u001b[0m\u001b[1;33m,\u001b[0m \u001b[0mframe_c\u001b[0m\u001b[1;33m,\u001b[0m \u001b[0mthreshold\u001b[0m\u001b[1;33m)\u001b[0m\u001b[1;33m:\u001b[0m\u001b[1;33m\u001b[0m\u001b[1;33m\u001b[0m\u001b[0m\n\u001b[0;32m      2\u001b[0m     \u001b[1;31m# 3 프레임의 영상을 모두 흑백으로 전환\u001b[0m\u001b[1;33m\u001b[0m\u001b[1;33m\u001b[0m\u001b[1;33m\u001b[0m\u001b[0m\n\u001b[1;32m----> 3\u001b[1;33m     \u001b[0mframe_a_gray\u001b[0m \u001b[1;33m=\u001b[0m \u001b[0mcv2\u001b[0m\u001b[1;33m.\u001b[0m\u001b[0mcvtColor\u001b[0m\u001b[1;33m(\u001b[0m\u001b[0mframe_a\u001b[0m\u001b[1;33m,\u001b[0m \u001b[0mcv2\u001b[0m\u001b[1;33m.\u001b[0m\u001b[0mCOLOR_BGR2GRAY\u001b[0m\u001b[1;33m)\u001b[0m\u001b[1;33m\u001b[0m\u001b[1;33m\u001b[0m\u001b[0m\n\u001b[0m\u001b[0;32m      4\u001b[0m     \u001b[0mframe_b_gray\u001b[0m \u001b[1;33m=\u001b[0m \u001b[0mcv2\u001b[0m\u001b[1;33m.\u001b[0m\u001b[0mcvtColor\u001b[0m\u001b[1;33m(\u001b[0m\u001b[0mframe_b\u001b[0m\u001b[1;33m,\u001b[0m \u001b[0mcv2\u001b[0m\u001b[1;33m.\u001b[0m\u001b[0mCOLOR_BGR2GRAY\u001b[0m\u001b[1;33m)\u001b[0m\u001b[1;33m\u001b[0m\u001b[1;33m\u001b[0m\u001b[0m\n\u001b[0;32m      5\u001b[0m     \u001b[0mframe_c_gray\u001b[0m \u001b[1;33m=\u001b[0m \u001b[0mcv2\u001b[0m\u001b[1;33m.\u001b[0m\u001b[0mcvtColor\u001b[0m\u001b[1;33m(\u001b[0m\u001b[0mframe_c\u001b[0m\u001b[1;33m,\u001b[0m \u001b[0mcv2\u001b[0m\u001b[1;33m.\u001b[0m\u001b[0mCOLOR_BGR2GRAY\u001b[0m\u001b[1;33m)\u001b[0m\u001b[1;33m\u001b[0m\u001b[1;33m\u001b[0m\u001b[0m\n",
      "\u001b[1;31merror\u001b[0m: OpenCV(4.5.3) C:\\Users\\runneradmin\\AppData\\Local\\Temp\\pip-req-build-q3d_8t8e\\opencv\\modules\\imgproc\\src\\color.cpp:182: error: (-215:Assertion failed) !_src.empty() in function 'cv::cvtColor'\n"
     ]
    }
   ],
   "source": [
    "# 초기 프레임으로 사용할 프레임들을 저장\n",
    "ret, frame_a = capture.read()\n",
    "ret, frame_b = capture.read()\n",
    "# 무한루프\n",
    "while True:\n",
    "    # 현재시각을 불러와 문자열로저장\n",
    "    now = datetime.datetime.now()\n",
    "    nowDatetime = now.strftime('%Y-%m-%d %H:%M:%S')\n",
    "    nowDatetime_path = now.strftime('%Y-%m-%d %H_%M_%S') # 파일이름으로는 :를 못쓰기 때문에 따로 만들어줌\n",
    "\n",
    "    # 현재 영상을 입력받아 움직임 감지\n",
    "    ret, frame_c = capture.read()\n",
    "    diff, diff_cnt = get_diff_img(frame_a=frame_a, frame_b=frame_b, frame_c=frame_c, threshold=threshold)\n",
    "    \n",
    "    # 움직임이 일정 이상이면\n",
    "    if diff_cnt > diff_max:\n",
    "        is_record = True    # 녹화 준비\n",
    "        if on_record == False:\n",
    "            video = cv2.VideoWriter(\"공대선배 웹캠 \" + nowDatetime_path + \".avi\", fourcc, 1, (frame_c.shape[1], frame_c.shape[0]))\n",
    "        cnt_record = max_cnt_record #남은 촬영 시간\n",
    "    if is_record == True:   # 녹화중이면\n",
    "        print('녹화 중')\n",
    "        video.write(frame_c)    # 현재 프레임 저장\n",
    "        cnt_record -= 1     # 녹화시간 1 감소\n",
    "        on_record = True    # 녹화중 여부를 참으로\n",
    "    if cnt_record == 0:     # 녹화시간이 다 되면\n",
    "        is_record = False   # 녹화관련 변수들을 거짓으로\n",
    "        on_record = False\n",
    "    \n",
    "    # 영상 차이를 출력(실제 사용시는 꺼도 됨)\n",
    "    cv2.imshow(\"diff\", diff)\n",
    "    frame = np.array(frame_c)\n",
    "    # 글자가 잘보이도록 배경을 넣어줌\n",
    "    # img는 사각형을 넣을 이미지, pt1, pt2는 사각형의 시작점과 끝점, color는 색상(파랑,초록,빨강), tickness는 선굵기(-1은 내부를 채우는 것)\n",
    "    cv2.rectangle(img=frame, pt1=(10, 15), pt2=(340, 35), color=(0,0,0), thickness=-1)     \n",
    "    \n",
    "    # 아래의 4줄은 글자를 영상에 더해주는 역할을 함    \n",
    "    frame = Image.fromarray(frame)    \n",
    "    draw = ImageDraw.Draw(frame)    \n",
    "    # xy는 텍스트 시작위치, text는 출력할 문자열, font는 글꼴, fill은 글자색(파랑,초록,빨강)   \n",
    "    draw.text(xy=(10, 15),  text=\"공대선배 웹캠 \"+nowDatetime, font=font, fill=(255, 255, 255))\n",
    "    frame = np.array(frame)\n",
    "    frame_a = np.array(frame_b)\n",
    "    frame_b = np.array(frame_c)\n",
    "\n",
    "    key = cv2.waitKey(1000)   # 30ms 동안 키입력 대기    \n",
    "    if key == ord('q'):  # 키보드의 q 를 누르면 무한루프가 멈춤\n",
    "            break\n",
    "    cv2.imshow(\"original\", frame)   # 현재 시간을 표시하는 글자를 써준 영상 출력"
   ]
  },
  {
   "cell_type": "code",
   "execution_count": null,
   "id": "a8a4830d",
   "metadata": {},
   "outputs": [],
   "source": [
    "capture.release()                   # 캡처 객체를 없애줌\n",
    "cv2.destroyAllWindows()             # 모든 영상 창을 닫아줌"
   ]
  },
  {
   "cell_type": "code",
   "execution_count": null,
   "id": "960e22a9",
   "metadata": {},
   "outputs": [],
   "source": []
  },
  {
   "cell_type": "code",
   "execution_count": null,
   "id": "0236396f",
   "metadata": {},
   "outputs": [],
   "source": []
  }
 ],
 "metadata": {
  "kernelspec": {
   "display_name": "Python 3",
   "language": "python",
   "name": "python3"
  },
  "language_info": {
   "codemirror_mode": {
    "name": "ipython",
    "version": 3
   },
   "file_extension": ".py",
   "mimetype": "text/x-python",
   "name": "python",
   "nbconvert_exporter": "python",
   "pygments_lexer": "ipython3",
   "version": "3.8.8"
  }
 },
 "nbformat": 4,
 "nbformat_minor": 5
}
